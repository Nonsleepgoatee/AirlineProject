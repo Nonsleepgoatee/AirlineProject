{
 "cells": [
  {
   "cell_type": "code",
   "execution_count": 1,
   "id": "initial_id",
   "metadata": {
    "collapsed": true,
    "ExecuteTime": {
     "end_time": "2024-05-21T15:08:26.967757Z",
     "start_time": "2024-05-21T15:08:25.846307Z"
    }
   },
   "outputs": [],
   "source": [
    "import pandas as pd\n",
    "from bs4 import BeautifulSoup\n",
    "import requests\n",
    "import re"
   ]
  },
  {
   "cell_type": "code",
   "outputs": [
    {
     "name": "stdout",
     "output_type": "stream",
     "text": [
      "154\n"
     ]
    }
   ],
   "source": [
    "#get all the airplines' name\n",
    "url='https://www.airlinequality.com/review-pages/a-z-lounge-reviews/'\n",
    "page=requests.get(url)\n",
    "soup=BeautifulSoup(page.content,'html.parser')\n",
    "name_section=soup.find_all('div',class_='content')\n",
    "names=[]\n",
    "for letter in name_section:\n",
    "    airlines=letter.find_all('li')\n",
    "    for airline in airlines:\n",
    "        name=airline.find('a').get_text(strip=True)\n",
    "        names.append(name)\n",
    "print(len(names))"
   ],
   "metadata": {
    "collapsed": false,
    "ExecuteTime": {
     "end_time": "2024-05-21T15:22:29.535978Z",
     "start_time": "2024-05-21T15:22:27.686484Z"
    }
   },
   "id": "1b1af375bf6aaaab",
   "execution_count": 4
  },
  {
   "cell_type": "code",
   "outputs": [
    {
     "data": {
      "text/plain": "['Adria Airways',\n 'Aegean Airlines',\n 'Aer Lingus',\n 'Aeroflot Russian Airlines',\n 'Aeromexico',\n 'Air Astana',\n 'Air Berlin',\n 'Air Canada',\n 'Air Caraibes',\n 'Air China',\n \"Air Cote d'Ivoire\",\n 'Air Europa',\n 'Air France',\n 'Air India',\n 'Air Malta',\n 'Air Mauritius',\n 'Air New Zealand',\n 'Air Niugini',\n 'Air Serbia',\n 'Air Seychelles',\n 'Air Tahiti Nui',\n 'Air Transat',\n 'AirAsia X',\n 'Aircalin',\n 'AIRDO',\n 'Alaska Airlines',\n 'Alitalia',\n 'American Airlines',\n 'American Express Centurion',\n 'ANA All Nippon Airways',\n 'Asiana Airlines',\n 'ASKY Airlines',\n 'Aspire by Swissport',\n 'Austrian Airlines',\n 'Avianca',\n 'Aviator Lounge CPH',\n 'Azerbaijan Airlines',\n 'Bangkok Airways',\n 'Biman Bangladesh Airlines',\n 'Blue Islands',\n 'British Airways',\n 'Brussels Airlines',\n 'Bulgaria Air',\n 'Cathay Dragon',\n 'Cathay Pacific Airways',\n 'China Airlines',\n 'China Eastern Airlines',\n 'China Southern Airlines',\n 'Comair',\n 'Copa Airlines',\n 'Corsair',\n 'Croatia Airlines',\n 'CSA Czech Airlines',\n 'Delta Air Lines',\n 'DNATA',\n 'Dragonair',\n 'Druk Air',\n 'Egyptair',\n 'El Al Israel Airlines',\n 'Emirates',\n 'Ethiopian Airlines',\n 'Etihad Airways',\n 'Eurowings',\n 'EVA Air',\n 'Fiji Airways',\n 'Finnair',\n 'flydubai',\n 'Garuda Indonesia',\n 'Gol Transportes Aéreos',\n 'Gulf Air',\n 'Hainan Airlines',\n 'Hawaiian Airlines',\n 'Hong Kong Airlines',\n 'Iberia',\n 'Icelandair',\n 'İGA Lounge',\n 'IndiGo',\n 'ITA Airways',\n 'Japan Airlines',\n 'Jet Airways',\n 'Jet2.com',\n 'Jetstar Asia',\n 'Juneyao Air',\n 'Kenya Airways',\n 'KLM Royal Dutch Airlines',\n 'Korean Air',\n 'La Compagnie',\n 'LAN Airlines',\n 'LATAM Airlines',\n 'Le Saigonnais Lounge',\n 'Le Salon Phnom Penh',\n 'LIAT',\n 'LOT Polish Airlines',\n 'Lufthansa',\n 'Luxair',\n 'Mahan Air',\n 'Malaysia Airlines',\n 'Malindo Air',\n 'Middle East Airlines',\n 'Myanmar National Airlines',\n 'No.1 Traveller',\n 'Norwegian',\n 'Oman Air',\n 'Pakistan Intl Airlines',\n 'Philippine Airlines',\n 'Plaza Premium',\n 'Priority Pass',\n 'Qantas Airways',\n 'QantasLink',\n 'Qatar Airways',\n 'Ravn Alaska',\n 'Royal Air Maroc',\n 'Royal Brunei Airlines',\n 'Royal Jordanian Airlines',\n 'Ryanair',\n 'S7 Siberia Airlines',\n 'Salon Icare',\n 'SAS Scandinavian',\n 'SATA International',\n 'SATS Premier',\n 'Saudi Arabian Airlines',\n 'Scoot',\n 'Shanghai Airlines',\n 'Shenzhen Airlines',\n 'Sichuan Airlines',\n 'SilkAir',\n 'Singapore Airlines',\n 'Sky Express Airlines',\n 'SkyTeam',\n 'South African Airways',\n 'SriLankan Airlines',\n 'Star Alliance',\n 'Swiss Intl Air Lines',\n 'TAAG Angola Airlines',\n 'TAM Airlines',\n 'TAP Portugal',\n 'TAROM Romanian',\n 'Thai AirAsia',\n 'Thai Airways',\n 'Thomson Airways',\n 'Transaero Airlines',\n 'TUI Airways',\n 'Turkish Airlines',\n 'Ukraine International',\n 'United Airlines',\n 'US Airways',\n 'Uzbekistan Airways',\n 'VietJet Air',\n 'Vietnam Airlines',\n 'Virgin America',\n 'Virgin Atlantic',\n 'Virgin Australia',\n 'Vistara',\n 'Xiamen Airlines']"
     },
     "execution_count": 5,
     "metadata": {},
     "output_type": "execute_result"
    }
   ],
   "source": [
    "names"
   ],
   "metadata": {
    "collapsed": false,
    "ExecuteTime": {
     "end_time": "2024-05-21T15:22:29.543066Z",
     "start_time": "2024-05-21T15:22:29.538036Z"
    }
   },
   "id": "cb7313cec9e1cbbf",
   "execution_count": 5
  },
  {
   "cell_type": "code",
   "outputs": [],
   "source": [
    "#transform the name format\n",
    "def name_transformation(name):\n",
    "    import re\n",
    "    name=name.lower()\n",
    "    name=re.sub(' ','-',name)\n",
    "    return name"
   ],
   "metadata": {
    "collapsed": false,
    "ExecuteTime": {
     "end_time": "2024-05-21T15:23:11.738830Z",
     "start_time": "2024-05-21T15:23:11.734561Z"
    }
   },
   "id": "10d64bda5ec1c7b2",
   "execution_count": 6
  },
  {
   "cell_type": "code",
   "outputs": [
    {
     "name": "stdout",
     "output_type": "stream",
     "text": [
      "['adria-airways', 'aegean-airlines', 'aer-lingus', 'aeroflot-russian-airlines', 'aeromexico', 'air-astana', 'air-berlin', 'air-canada', 'air-caraibes', 'air-china', \"air-cote-d'ivoire\", 'air-europa', 'air-france', 'air-india', 'air-malta', 'air-mauritius', 'air-new-zealand', 'air-niugini', 'air-serbia', 'air-seychelles', 'air-tahiti-nui', 'air-transat', 'airasia-x', 'aircalin', 'airdo', 'alaska-airlines', 'alitalia', 'american-airlines', 'american-express-centurion', 'ana-all-nippon-airways', 'asiana-airlines', 'asky-airlines', 'aspire-by-swissport', 'austrian-airlines', 'avianca', 'aviator-lounge-cph', 'azerbaijan-airlines', 'bangkok-airways', 'biman-bangladesh-airlines', 'blue-islands', 'british-airways', 'brussels-airlines', 'bulgaria-air', 'cathay-dragon', 'cathay-pacific-airways', 'china-airlines', 'china-eastern-airlines', 'china-southern-airlines', 'comair', 'copa-airlines', 'corsair', 'croatia-airlines', 'csa-czech-airlines', 'delta-air-lines', 'dnata', 'dragonair', 'druk-air', 'egyptair', 'el-al-israel-airlines', 'emirates', 'ethiopian-airlines', 'etihad-airways', 'eurowings', 'eva-air', 'fiji-airways', 'finnair', 'flydubai', 'garuda-indonesia', 'gol-transportes-aéreos', 'gulf-air', 'hainan-airlines', 'hawaiian-airlines', 'hong-kong-airlines', 'iberia', 'icelandair', 'i̇ga-lounge', 'indigo', 'ita-airways', 'japan-airlines', 'jet-airways', 'jet2.com', 'jetstar-asia', 'juneyao-air', 'kenya-airways', 'klm-royal-dutch-airlines', 'korean-air', 'la-compagnie', 'lan-airlines', 'latam-airlines', 'le-saigonnais-lounge', 'le-salon-phnom-penh', 'liat', 'lot-polish-airlines', 'lufthansa', 'luxair', 'mahan-air', 'malaysia-airlines', 'malindo-air', 'middle-east-airlines', 'myanmar-national-airlines', 'no.1-traveller', 'norwegian', 'oman-air', 'pakistan-intl-airlines', 'philippine-airlines', 'plaza-premium', 'priority-pass', 'qantas-airways', 'qantaslink', 'qatar-airways', 'ravn-alaska', 'royal-air-maroc', 'royal-brunei-airlines', 'royal-jordanian-airlines', 'ryanair', 's7-siberia-airlines', 'salon-icare', 'sas-scandinavian', 'sata-international', 'sats-premier', 'saudi-arabian-airlines', 'scoot', 'shanghai-airlines', 'shenzhen-airlines', 'sichuan-airlines', 'silkair', 'singapore-airlines', 'sky-express-airlines', 'skyteam', 'south-african-airways', 'srilankan-airlines', 'star-alliance', 'swiss-intl-air-lines', 'taag-angola-airlines', 'tam-airlines', 'tap-portugal', 'tarom-romanian', 'thai-airasia', 'thai-airways', 'thomson-airways', 'transaero-airlines', 'tui-airways', 'turkish-airlines', 'ukraine-international', 'united-airlines', 'us-airways', 'uzbekistan-airways', 'vietjet-air', 'vietnam-airlines', 'virgin-america', 'virgin-atlantic', 'virgin-australia', 'vistara', 'xiamen-airlines']\n"
     ]
    }
   ],
   "source": [
    "url_name=[name_transformation(name) for name in names]\n",
    "print(url_name)"
   ],
   "metadata": {
    "collapsed": false,
    "ExecuteTime": {
     "end_time": "2024-05-21T15:24:06.105446Z",
     "start_time": "2024-05-21T15:24:06.100711Z"
    }
   },
   "id": "238a3a4d11ff9ce2",
   "execution_count": 7
  },
  {
   "cell_type": "code",
   "outputs": [],
   "source": [
    "#get the page\n",
    "def page_scraper(airline_name):\n",
    "    url='https://www.airlinequality.com/lounge-reviews/{}/?sortby=post_date%3ADesc&pagesize=100'\n",
    "    try:\n",
    "        response=requests.get(url.format(airline_name))\n",
    "        soup=BeautifulSoup(response.content,'html.parser')\n",
    "        panel=soup.find('article',class_='comp comp_reviews-pagination querylist-pagination position-')\n",
    "        if panel==None:\n",
    "            page=1\n",
    "        else:\n",
    "            page_list=panel.find_all('a')\n",
    "            page=page_list[-2].text\n",
    "    except requests.RequestException as e:\n",
    "        print(f'Error fecting the page {airline_name}:{e}')\n",
    "        page=None\n",
    "    return page"
   ],
   "metadata": {
    "collapsed": false,
    "ExecuteTime": {
     "end_time": "2024-05-21T15:26:29.732232Z",
     "start_time": "2024-05-21T15:26:29.727726Z"
    }
   },
   "id": "98179984155c35b7",
   "execution_count": 8
  },
  {
   "cell_type": "code",
   "outputs": [
    {
     "name": "stdout",
     "output_type": "stream",
     "text": [
      "{'adria-airways': 1, 'aegean-airlines': 1, 'aer-lingus': 1, 'aeroflot-russian-airlines': 1, 'aeromexico': 1, 'air-astana': 1, 'air-berlin': 1, 'air-canada': '2', 'air-caraibes': 1, 'air-china': 1, \"air-cote-d'ivoire\": 1, 'air-europa': 1, 'air-france': 1, 'air-india': 1, 'air-malta': 1, 'air-mauritius': 1, 'air-new-zealand': 1, 'air-niugini': 1, 'air-serbia': 1, 'air-seychelles': 1, 'air-tahiti-nui': 1, 'air-transat': 1, 'airasia-x': 1, 'aircalin': 1, 'airdo': 1, 'alaska-airlines': 1, 'alitalia': 1, 'american-airlines': '2', 'american-express-centurion': 1, 'ana-all-nippon-airways': 1, 'asiana-airlines': 1, 'asky-airlines': 1, 'aspire-by-swissport': 1, 'austrian-airlines': 1, 'avianca': 1, 'aviator-lounge-cph': 1, 'azerbaijan-airlines': 1, 'bangkok-airways': 1, 'biman-bangladesh-airlines': 1, 'blue-islands': 1, 'british-airways': '5', 'brussels-airlines': 1, 'bulgaria-air': 1, 'cathay-dragon': 1, 'cathay-pacific-airways': '2', 'china-airlines': 1, 'china-eastern-airlines': 1, 'china-southern-airlines': 1, 'comair': 1, 'copa-airlines': 1, 'corsair': 1, 'croatia-airlines': 1, 'csa-czech-airlines': 1, 'delta-air-lines': 1, 'dnata': 1, 'dragonair': 1, 'druk-air': 1, 'egyptair': 1, 'el-al-israel-airlines': 1, 'emirates': '3', 'ethiopian-airlines': 1, 'etihad-airways': '2', 'eurowings': 1, 'eva-air': 1, 'fiji-airways': 1, 'finnair': 1, 'flydubai': 1, 'garuda-indonesia': 1, 'gol-transportes-aéreos': 1, 'gulf-air': 1, 'hainan-airlines': 1, 'hawaiian-airlines': 1, 'hong-kong-airlines': 1, 'iberia': 1, 'icelandair': 1, 'i̇ga-lounge': 1, 'indigo': 1, 'ita-airways': 1, 'japan-airlines': 1, 'jet-airways': 1, 'jet2.com': 1, 'jetstar-asia': 1, 'juneyao-air': 1, 'kenya-airways': 1, 'klm-royal-dutch-airlines': 1, 'korean-air': 1, 'la-compagnie': 1, 'lan-airlines': 1, 'latam-airlines': 1, 'le-saigonnais-lounge': 1, 'le-salon-phnom-penh': 1, 'liat': 1, 'lot-polish-airlines': 1, 'lufthansa': '2', 'luxair': 1, 'mahan-air': 1, 'malaysia-airlines': '2', 'malindo-air': 1, 'middle-east-airlines': 1, 'myanmar-national-airlines': 1, 'no.1-traveller': 1, 'norwegian': 1, 'oman-air': 1, 'pakistan-intl-airlines': 1, 'philippine-airlines': 1, 'plaza-premium': 1, 'priority-pass': 1, 'qantas-airways': '3', 'qantaslink': 1, 'qatar-airways': '2', 'ravn-alaska': 1, 'royal-air-maroc': 1, 'royal-brunei-airlines': 1, 'royal-jordanian-airlines': 1, 'ryanair': 1, 's7-siberia-airlines': 1, 'salon-icare': 1, 'sas-scandinavian': 1, 'sata-international': 1, 'sats-premier': 1, 'saudi-arabian-airlines': 1, 'scoot': 1, 'shanghai-airlines': 1, 'shenzhen-airlines': 1, 'sichuan-airlines': 1, 'silkair': 1, 'singapore-airlines': '2', 'sky-express-airlines': 1, 'skyteam': 1, 'south-african-airways': 1, 'srilankan-airlines': 1, 'star-alliance': 1, 'swiss-intl-air-lines': 1, 'taag-angola-airlines': 1, 'tam-airlines': 1, 'tap-portugal': 1, 'tarom-romanian': 1, 'thai-airasia': 1, 'thai-airways': '2', 'thomson-airways': 1, 'transaero-airlines': 1, 'tui-airways': 1, 'turkish-airlines': '2', 'ukraine-international': 1, 'united-airlines': '3', 'us-airways': 1, 'uzbekistan-airways': 1, 'vietjet-air': 1, 'vietnam-airlines': 1, 'virgin-america': 1, 'virgin-atlantic': 1, 'virgin-australia': 1, 'vistara': 1, 'xiamen-airlines': 1}\n"
     ]
    }
   ],
   "source": [
    "lounge_page={}\n",
    "for airline in url_name:\n",
    "    page=page_scraper(airline)\n",
    "    lounge_page[airline]=page\n",
    "print(lounge_page)"
   ],
   "metadata": {
    "collapsed": false,
    "ExecuteTime": {
     "end_time": "2024-05-21T15:29:19.435383Z",
     "start_time": "2024-05-21T15:27:22.654523Z"
    }
   },
   "id": "6d502a4eb9399e73",
   "execution_count": 9
  },
  {
   "cell_type": "code",
   "outputs": [],
   "source": [
    "def content_scraper(airline_name,max_page):\n",
    "    url='https://www.airlinequality.com/lounge-reviews/{}/page/{}/?sortby=post_date%3ADesc&pagesize=100'\n",
    "    res=[]\n",
    "    for i in range(1,int(max_page)+1):\n",
    "        formatted_url=url.format(airline_name,i)\n",
    "        response = requests.get(formatted_url)\n",
    "        soup = BeautifulSoup(response.content, 'html.parser')\n",
    "        review_list=soup.find_all('article', itemprop='review')\n",
    "        for review in review_list:\n",
    "            r={}\n",
    "            r['title']=review.find('h2').get_text(strip=True) if review.find('h2') else 'No title'\n",
    "            r['rating']=review.find('span',itemprop='ratingValue').get_text(strip=True) if review.find('span',itemprop='ratingValue') else 'No rating'\n",
    "            customer_status=review.find('h3',class_='text_sub_header userStatusWrapper').get_text(strip=True)\n",
    "            na_match=re.search(r'\\(([^)]+)\\)', customer_status)\n",
    "            if na_match:\n",
    "                r['nationality']=na_match.group(1)\n",
    "            date_match=re.search(r'\\d+\\w*\\s+[A-Za-z]+\\s+\\d{4}', customer_status)\n",
    "            if date_match:\n",
    "                r['date']=date_match.group(0)\n",
    "            r['content']=review.find('div',class_='text_content').get_text(strip=True) if review.find('div',class_='text_content') else 'No content'\n",
    "            for tr in review.find_all('tr'):\n",
    "                detail_name = tr.find('td', class_='review-rating-header').text.strip()\n",
    "                detail_value_container = tr.find('td', class_='review-value') or tr.find('td', class_='review-rating-stars stars')\n",
    "                if detail_value_container:\n",
    "                    stars = detail_value_container.find_all('span', class_='fill')\n",
    "                    if stars:\n",
    "                        detail_value = len(stars)\n",
    "                    else:\n",
    "                        detail_value = detail_value_container.text.strip()\n",
    "                    r[detail_name] = detail_value\n",
    "            res.append(r)\n",
    "    return res"
   ],
   "metadata": {
    "collapsed": false,
    "ExecuteTime": {
     "end_time": "2024-05-21T17:00:11.903015Z",
     "start_time": "2024-05-21T17:00:11.896726Z"
    }
   },
   "id": "9e692ab798c7e5e1",
   "execution_count": 14
  },
  {
   "cell_type": "code",
   "outputs": [
    {
     "name": "stdout",
     "output_type": "stream",
     "text": [
      "{'adria-airways':                               title rating nationality                date  \\\n",
      "0    \"selection of drinks was good\"      7     Austria  11th February 2017   \n",
      "1  \"decoration is fresh and modern\"      3       Spain      9th March 2014   \n",
      "\n",
      "                                             content      Lounge Name  \\\n",
      "0  ❎Unverified|  The Adria Airways Business Loung...  Business Lounge   \n",
      "1  There are 2 separate areas with arm chairs and...              NaN   \n",
      "\n",
      "             Airport  Type Of Lounge     Date Visit Type Of Traveller  \\\n",
      "0  Ljubljana Airport  Business Class  December 2016          Business   \n",
      "1                NaN  Business Class            NaN          Business   \n",
      "\n",
      "   Comfort  Cleanliness  Bar & Beverages  Catering  Washrooms  \\\n",
      "0        5            4                5         1          4   \n",
      "1        3            4                3         3          3   \n",
      "\n",
      "   Wifi Connectivity  Staff Service Recommended         lounge  \n",
      "0                  3              4         yes  adria-airways  \n",
      "1                  2              2         yes  adria-airways  , 'aegean-airlines':                                 title rating     nationality  \\\n",
      "0         \"the food options are good\"      8        Portugal   \n",
      "1     \"staff very polite and helpful\"      6          Greece   \n",
      "2   \"staff is friendly and courteous\"     10         Germany   \n",
      "3         \"Quality of food very poor\"      3          Greece   \n",
      "4     \"outdated and needs renovation\"      3          Cyprus   \n",
      "5         \"lounge is very convenient\"      8          Greece   \n",
      "6                \"the lounge is dark\"      9          Greece   \n",
      "7           \"Quality of food is poor\"      3          Greece   \n",
      "8      \"professionalism of the staff\"     10          Greece   \n",
      "9           \"small, dark, windowless\"      5         Germany   \n",
      "10               \"have the same food\"      5          Greece   \n",
      "11       \"a lot needs to be improved\"      2           Spain   \n",
      "12          \"Big and spacious lounge\"      5  United Kingdom   \n",
      "13     \"surprisingly pleasant lounge\"      4   United States   \n",
      "14            \"large well lit lounge\"      4  United Kingdom   \n",
      "\n",
      "                   date                                            content  \\\n",
      "0      8th January 2022  Not Verified| The lounge is spacious, good lig...   \n",
      "1        5th March 2020  ✅Trip Verified|  The lounge is often crowded, ...   \n",
      "2   22nd September 2019  ✅Trip Verified|  Modern lounge, good size, at ...   \n",
      "3   28th September 2017  ✅Verified Review|  Quality of food very poor, ...   \n",
      "4   17th September 2017  ✅Verified Review|  This lounge is very outdate...   \n",
      "5        23rd June 2017  ✅Verified Review|  The lounge is very convenie...   \n",
      "6        23rd June 2017  ✅Verified Review|  Sala Monteverdi lounge that...   \n",
      "7        21st June 2017  ✅Verified Review|  Aegean Airlines use the Swi...   \n",
      "8    27th December 2016  ✅Verified Review|  The Aegean Business lounge ...   \n",
      "9        13th June 2015  It is a small, dark, windowless lounge located...   \n",
      "10     5th October 2014  Both of the lounges have the same food (sandwi...   \n",
      "11      11th March 2014  The lounge was clean and the decor is up to da...   \n",
      "12       24th July 2012  Big and spacious lounge. Comfy sofas and a nic...   \n",
      "13  17th September 2011  Surprisingly pleasant lounge. If traveling thr...   \n",
      "14       13th July 2009  Large well lit lounge with a separate smoking ...   \n",
      "\n",
      "               Lounge Name                 Airport  Type Of Lounge  \\\n",
      "0   Aegean Business Lounge          Athens Airport  Frequent Flyer   \n",
      "1                      NaN          Athens Airport  Business Class   \n",
      "2            Aegean Lounge          Athens Airport  Business Class   \n",
      "3                Swissport          Athens Airport  Business Class   \n",
      "4            Aegean Lounge          Athens Airport  Frequent Flyer   \n",
      "5            Intra Shengen          Athens Airport  Business Class   \n",
      "6          Sala Monteverdi  Milan Malpensa Airport  Business Class   \n",
      "7         Swissport Lounge          Athens Airport  Business Class   \n",
      "8                      NaN    Thessaloniki Airport  Business Class   \n",
      "9                      NaN         Larnaca Airport  Business Class   \n",
      "10                     NaN          Athens Airport  Business Class   \n",
      "11                     NaN          Athens Airport  Business Class   \n",
      "12                     NaN    Thessaloniki Airport  Business Class   \n",
      "13                     NaN    Thessaloniki Airport  Business Class   \n",
      "14                     NaN          Athens Airport  Business Class   \n",
      "\n",
      "        Date Visit  Comfort  Cleanliness  Bar & Beverages  Catering  \\\n",
      "0     January 2022        5            4                4         4   \n",
      "1       March 2020        3            4                4         2   \n",
      "2   September 2019        5            5                5         5   \n",
      "3   September 2017        3            3                1         1   \n",
      "4   September 2017        3            1                2         1   \n",
      "5        June 2017        4            4                4         3   \n",
      "6        June 2017        4            4                4         4   \n",
      "7        June 2017        2            2                1         1   \n",
      "8    December 2016        5            5                4         4   \n",
      "9       March 2015        4            4                3         3   \n",
      "10             NaN        5            5                5         4   \n",
      "11             NaN        3            3                2         1   \n",
      "12             NaN        5            5                4         4   \n",
      "13             NaN        4            5                3         2   \n",
      "14             NaN        4            5                3         3   \n",
      "\n",
      "    Wifi Connectivity  Staff Service Recommended Type Of Traveller  Washrooms  \\\n",
      "0                   5              4         yes               NaN        NaN   \n",
      "1                   4              5         yes          Business        3.0   \n",
      "2                   5              5         yes          Business        4.0   \n",
      "3                   1              3          no          Business        1.0   \n",
      "4                   3              2         yes               NaN        1.0   \n",
      "5                   5              5         yes          Business        3.0   \n",
      "6                   3              4         yes          Business        4.0   \n",
      "7                   1              2          no          Business        1.0   \n",
      "8                   5              5         yes          Business        5.0   \n",
      "9                   4              4         yes          Business        3.0   \n",
      "10                  5              5         yes          Business        4.0   \n",
      "11                  3              2          no          Business        2.0   \n",
      "12                  5              5         yes          Business        4.0   \n",
      "13                  5              3          no          Business        4.0   \n",
      "14                  5              4          no          Business        4.0   \n",
      "\n",
      "             lounge  \n",
      "0   aegean-airlines  \n",
      "1   aegean-airlines  \n",
      "2   aegean-airlines  \n",
      "3   aegean-airlines  \n",
      "4   aegean-airlines  \n",
      "5   aegean-airlines  \n",
      "6   aegean-airlines  \n",
      "7   aegean-airlines  \n",
      "8   aegean-airlines  \n",
      "9   aegean-airlines  \n",
      "10  aegean-airlines  \n",
      "11  aegean-airlines  \n",
      "12  aegean-airlines  \n",
      "13  aegean-airlines  \n",
      "14  aegean-airlines  , 'aer-lingus':                                               title rating     nationality  \\\n",
      "0                     \"a new lounge for Aer Lingus\"      8  United Kingdom   \n",
      "1                           \"A small, clean lounge\"      8  United Kingdom   \n",
      "2                        \"food is absolutely awful\"      1         Ireland   \n",
      "3                               \"I couldn’t get in\"      1          Canada   \n",
      "4                          \"A very pleasant lounge\"     10         Ireland   \n",
      "5                     \"Small lounge, freezing cold\"      3  United Kingdom   \n",
      "6                     \"small, with limited seating\"      3         Ireland   \n",
      "7                          \"the negatives are many\"      3         Ireland   \n",
      "8                        \"80 degrees in the lounge\"      1   United States   \n",
      "9                         \"almost full to capacity\"      4  United Kingdom   \n",
      "10                       \"food offering is abysmal\"      6         Ireland   \n",
      "11                    \"Nice peaceful place to wait\"      9  United Kingdom   \n",
      "12   \"snacks are the poorest selection I have seen\"      3  United Kingdom   \n",
      "13       \"staff need schooling on customer service\"      3   United States   \n",
      "14              \"poor food offer at breakfast time\"      3  United Kingdom   \n",
      "15                \"choice of food was very limited\"      4  United Kingdom   \n",
      "16   \"at 25 euros per person it is very poor value\"      3  United Kingdom   \n",
      "17            \"the whole experience was a let down\"      2         Ireland   \n",
      "18             \"Surly and unfriendly receptionists\"      1         Ireland   \n",
      "19          \"all in all I wouldn't be rushing back\"      3  United Kingdom   \n",
      "20                          \"It is bright and airy\"      4         Ireland   \n",
      "21                     \"Bright and spacious lounge\"      4  United Kingdom   \n",
      "22          \"staff were welcoming and seemed happy\"      3  United Kingdom   \n",
      "23           \"lounge has own showers and washrooms\"      4         Ireland   \n",
      "24    \"the most dismal depressing miserable lounge\"      2   United States   \n",
      "25                  \"limited selection of hot food\"      5         Ireland   \n",
      "26      \"a nice little selection of food and drink\"      3         Ireland   \n",
      "27     \"incredulous that I paid for access to this\"      1  United Kingdom   \n",
      "28      \"I didn't expect to see work stations gone\"      2  United Kingdom   \n",
      "29                \"lounge has become almost a joke\"      2  United Kingdom   \n",
      "30  \"airline seems to put staff ahead of customers\"      1  United Kingdom   \n",
      "31         \"nothing prepared me for the filthy tip\"      2  United Kingdom   \n",
      "32  \"the pokiest grubbiest lounge I have ever seen\"      2  United Kingdom   \n",
      "33         \"food is restricted to bags of twiglets\"      2  United Kingdom   \n",
      "34                  \"staff friendly to indifferent\"      2  United Kingdom   \n",
      "35      \"high standards are not down to Aer Lingus\"      5  United Kingdom   \n",
      "36                      \"get some toilets in there\"      1  United Kingdom   \n",
      "\n",
      "                   date                                            content  \\\n",
      "0         21st May 2024  ✅Trip Verified|  This is a new lounge for Aer ...   \n",
      "1        15th June 2023  ✅Trip Verified|  A small, clean lounge with pl...   \n",
      "2         25th May 2023  Not Verified|  While the decor etc is nice, th...   \n",
      "3     4th February 2020  ✅Trip Verified|  I would probably rate the lou...   \n",
      "4    15th February 2017  ✅Verified Review|  The Gold Circle Lounge in D...   \n",
      "5    10th February 2017  ❎Unverified|  I book the Aer Lingus flight und...   \n",
      "6     17th October 2016  The lounge is small, with limited seating. Off...   \n",
      "7   26th September 2016  ✅Verified Review|  Located after US Preclearan...   \n",
      "8    21st November 2015  The staff was rude. The temperature was 80 deg...   \n",
      "9     3rd November 2015  This Aer Lingus Lounge at Boston Logan Airport...   \n",
      "10    29th October 2015  Visited the Aer Lingus Gold Circle Lounge in H...   \n",
      "11     24th August 2015  Greeted by lovely helpful ladies on reception ...   \n",
      "12     13th August 2015  Unimpressed. When you enter there is a woman s...   \n",
      "13        29th May 2015  Aer Lingus Gold Circle at Heathrow airport is ...   \n",
      "14      29th March 2015  Paid £50 for Are Lingus Lounge use for myself ...   \n",
      "15    28th October 2014  Aer Lingus Gold Circle lounge at T2 Heathrow i...   \n",
      "16     11th August 2014  On return to UK visited Aer Lingus lounge. Cle...   \n",
      "17   15th November 2013  Regularly used this Aer Lingus Gold Circle lou...   \n",
      "18   15th November 2013  Surly and unfriendly receptionists. On my Aer ...   \n",
      "19       4th April 2013  The Oasis lounge seems to be shared amongst al...   \n",
      "20  17th September 2012  Showers toilets decent range of snacks and dri...   \n",
      "21  10th September 2012  Bright and spacious lounge. Drink and food sel...   \n",
      "22  10th September 2012  I used this lounge for a 9.55am departure. It ...   \n",
      "23  13th September 2011  The new Aer Lingus Gold Circle Business Class ...   \n",
      "24         3rd May 2011  Sitting here now kicking myself that I bought ...   \n",
      "25         3rd May 2011  Ample seating including armchairs and full-len...   \n",
      "26         3rd May 2011  Not to the same standard as other lounges (eg....   \n",
      "27         1st May 2010  I'm sitting in the lounge a bit incredulous th...   \n",
      "28      18th March 2009  My first visit to the Gold Circle lounge in ma...   \n",
      "29      18th March 2009  The range of food and beverages is reasonable....   \n",
      "30   28th February 2009  The Gold Circle Lounge at EI home airport of D...   \n",
      "31    30th October 2008  I have posted previous comments on Aer Lingus ...   \n",
      "32    30th October 2008  I got to use the Aer Lingus lounge as I was fl...   \n",
      "33  29th September 2008  This lounge has so much potential - it's brigh...   \n",
      "34     19th August 2008  Very basic but better than filthy overcrowded ...   \n",
      "35     19th August 2008  Excellent lounge with good selection of food d...   \n",
      "36        4th July 2008  Everyone agrees that this lounge beats sitting...   \n",
      "\n",
      "           Lounge Name                  Airport  Type Of Lounge  \\\n",
      "0       JFK Terminal 7     New York JFK Airport  Business Class   \n",
      "1           Aer Lingus     New York JFK Airport  Business Class   \n",
      "2                  NaN  London Heathrow Airport  Business Class   \n",
      "3               Dublin           Dublin Airport  Business Class   \n",
      "4          Gold Circle           Dublin Airport  Frequent Flyer   \n",
      "5               Dublin           Dublin Airport  Business Class   \n",
      "6                   T2           Dublin Airport  Business Class   \n",
      "7         51st & Green           Dublin Airport  Business Class   \n",
      "8                  NaN     New York JFK Airport  Business Class   \n",
      "9                  NaN     Boston Logan Airport  Business Class   \n",
      "10  Gold Circle Lounge  London Heathrow Airport  Frequent Flyer   \n",
      "11                 NaN           Dublin Airport  Business Class   \n",
      "12         Gold Circle     Boston Logan Airport  Business Class   \n",
      "13         Gold Circle  London Heathrow Airport  Business Class   \n",
      "14            Panorama           Dublin Airport  Business Class   \n",
      "15         Gold Circle  London Heathrow Airport  Business Class   \n",
      "16         Gold Circle           Dublin Airport  Business Class   \n",
      "17         Gold Circle           Dublin Airport  Business Class   \n",
      "18            Panorama           Zurich Airport  Business Class   \n",
      "19               Oasis     New York JFK Airport  Business Class   \n",
      "20         Gold Circle           Dublin Airport  Business Class   \n",
      "21         Gold Circle           Dublin Airport  Business Class   \n",
      "22         Gold Circle  London Heathrow Airport  Business Class   \n",
      "23         Gold Circle           Dublin Airport  Business Class   \n",
      "24         Gold Circle     Boston Logan Airport  Business Class   \n",
      "25         Gold Circle  London Heathrow Airport  Business Class   \n",
      "26         Gold Circle             Cork Airport  Business Class   \n",
      "27         Gold Circle  London Heathrow Airport  Business Class   \n",
      "28         Gold Circle           Dublin Airport  Business Class   \n",
      "29         Gold Circle  London Heathrow Airport  Business Class   \n",
      "30         Gold Circle           Dublin Airport  Business Class   \n",
      "31         Gold Circle   Chicago O'Hare Airport  Business Class   \n",
      "32         Gold Circle     Boston Logan Airport  Business Class   \n",
      "33         Gold Circle           Dublin Airport  Business Class   \n",
      "34         Gold Circle           Dublin Airport  Business Class   \n",
      "35               Oasis     New York JFK Airport  Business Class   \n",
      "36         Gold Circle  London Heathrow Airport  Business Class   \n",
      "\n",
      "        Date Visit Type Of Traveller  Comfort  Cleanliness  Bar & Beverages  \\\n",
      "0         May 2024          Business      5.0          5.0              4.0   \n",
      "1        June 2023          Business      5.0          5.0              4.0   \n",
      "2         May 2023          Business      3.0          3.0              1.0   \n",
      "3     January 2020          Business      NaN          NaN              NaN   \n",
      "4    February 2017               NaN      5.0          5.0              5.0   \n",
      "5    February 2017          Business      3.0          2.0              1.0   \n",
      "6     January 2016          Business      2.0          2.0              1.0   \n",
      "7   September 2016          Business      3.0          3.0              3.0   \n",
      "8    November 2015          Business      1.0          1.0              1.0   \n",
      "9    November 2015          Business      2.0          3.0              3.0   \n",
      "10       July 2015               NaN      5.0          5.0              4.0   \n",
      "11     August 2015          Business      4.0          5.0              4.0   \n",
      "12     August 2015          Business      3.0          4.0              3.0   \n",
      "13             NaN          Business      4.0          4.0              2.0   \n",
      "14             NaN          Business      4.0          4.0              3.0   \n",
      "15             NaN          Business      4.0          5.0              4.0   \n",
      "16             NaN          Business      3.0          4.0              3.0   \n",
      "17             NaN          Business      4.0          3.0              1.0   \n",
      "18             NaN          Business      1.0          3.0              1.0   \n",
      "19             NaN          Business      4.0          3.0              4.0   \n",
      "20             NaN          Business      4.0          4.0              4.0   \n",
      "21             NaN          Business      5.0          4.0              3.0   \n",
      "22             NaN          Business      3.0          3.0              4.0   \n",
      "23             NaN          Business      5.0          5.0              4.0   \n",
      "24             NaN          Business      1.0          3.0              3.0   \n",
      "25             NaN          Business      5.0          5.0              5.0   \n",
      "26             NaN          Business      4.0          4.0              4.0   \n",
      "27             NaN          Business      1.0          3.0              2.0   \n",
      "28             NaN          Business      2.0          3.0              3.0   \n",
      "29             NaN          Business      2.0          4.0              1.0   \n",
      "30             NaN          Business      1.0          1.0              3.0   \n",
      "31             NaN          Business      1.0          2.0              2.0   \n",
      "32             NaN          Business      1.0          2.0              3.0   \n",
      "33             NaN          Business      4.0          3.0              3.0   \n",
      "34             NaN          Business      2.0          2.0              3.0   \n",
      "35             NaN          Business      5.0          5.0              5.0   \n",
      "36             NaN          Business      1.0          2.0              2.0   \n",
      "\n",
      "    Catering  Washrooms  Wifi Connectivity  Staff Service Recommended  \\\n",
      "0        4.0        4.0                5.0            4.0         yes   \n",
      "1        2.0        5.0                5.0            5.0         yes   \n",
      "2        1.0        3.0                4.0            2.0          no   \n",
      "3        NaN        NaN                NaN            NaN          no   \n",
      "4        5.0        5.0                5.0            5.0         yes   \n",
      "5        1.0        3.0                5.0            2.0          no   \n",
      "6        1.0        1.0                3.0            1.0          no   \n",
      "7        2.0        3.0                5.0            3.0         yes   \n",
      "8        1.0        1.0                1.0            1.0          no   \n",
      "9        3.0        1.0                4.0            3.0          no   \n",
      "10       1.0        5.0                5.0            3.0         yes   \n",
      "11       3.0        3.0                4.0            5.0         yes   \n",
      "12       2.0        NaN                4.0            3.0          no   \n",
      "13       2.0        3.0                4.0            1.0          no   \n",
      "14       1.0        3.0                3.0            1.0          no   \n",
      "15       2.0        4.0                4.0            3.0         yes   \n",
      "16       1.0        3.0                4.0            3.0          no   \n",
      "17       1.0        1.0                4.0            2.0          no   \n",
      "18       1.0        1.0                1.0            1.0          no   \n",
      "19       4.0        2.0                4.0            2.0          no   \n",
      "20       4.0        4.0                5.0            4.0         yes   \n",
      "21       3.0        3.0                4.0            4.0         yes   \n",
      "22       2.0        4.0                4.0            4.0         yes   \n",
      "23       4.0        4.0                5.0            3.0         yes   \n",
      "24       1.0        3.0                1.0            1.0          no   \n",
      "25       4.0        4.0                5.0            5.0         yes   \n",
      "26       3.0        1.0                4.0            4.0         yes   \n",
      "27       2.0        NaN                NaN            2.0          no   \n",
      "28       2.0        1.0                1.0            3.0          no   \n",
      "29       3.0        1.0                1.0            3.0          no   \n",
      "30       1.0        1.0                NaN            2.0          no   \n",
      "31       NaN        2.0                2.0            2.0          no   \n",
      "32       1.0        1.0                2.0            4.0          no   \n",
      "33       1.0        1.0                1.0            3.0          no   \n",
      "34       1.0        1.0                2.0            2.0          no   \n",
      "35       4.0        4.0                5.0            4.0         yes   \n",
      "36       1.0        1.0                1.0            1.0          no   \n",
      "\n",
      "   Type Of Lounge Other      lounge  \n",
      "0                   NaN  aer-lingus  \n",
      "1                   NaN  aer-lingus  \n",
      "2                   NaN  aer-lingus  \n",
      "3                   NaN  aer-lingus  \n",
      "4                   NaN  aer-lingus  \n",
      "5                   NaN  aer-lingus  \n",
      "6                   NaN  aer-lingus  \n",
      "7                   NaN  aer-lingus  \n",
      "8                   NaN  aer-lingus  \n",
      "9                   NaN  aer-lingus  \n",
      "10                  NaN  aer-lingus  \n",
      "11                  NaN  aer-lingus  \n",
      "12                  NaN  aer-lingus  \n",
      "13                  NaN  aer-lingus  \n",
      "14                  N/A  aer-lingus  \n",
      "15                  NaN  aer-lingus  \n",
      "16                  NaN  aer-lingus  \n",
      "17                  NaN  aer-lingus  \n",
      "18                  NaN  aer-lingus  \n",
      "19                  NaN  aer-lingus  \n",
      "20                  NaN  aer-lingus  \n",
      "21                  NaN  aer-lingus  \n",
      "22                  NaN  aer-lingus  \n",
      "23                  NaN  aer-lingus  \n",
      "24                  NaN  aer-lingus  \n",
      "25                  NaN  aer-lingus  \n",
      "26                  NaN  aer-lingus  \n",
      "27                  NaN  aer-lingus  \n",
      "28                  NaN  aer-lingus  \n",
      "29                  NaN  aer-lingus  \n",
      "30                  NaN  aer-lingus  \n",
      "31                  NaN  aer-lingus  \n",
      "32                  NaN  aer-lingus  \n",
      "33                  NaN  aer-lingus  \n",
      "34                  NaN  aer-lingus  \n",
      "35                  NaN  aer-lingus  \n",
      "36                  NaN  aer-lingus  }\n"
     ]
    }
   ],
   "source": [
    "sample_dic={'adria-airways': 1, 'aegean-airlines': 1, 'aer-lingus': 1}\n",
    "sample_res_dataframe={}\n",
    "for sample_name,sample_page in sample_dic.items():\n",
    "    res=content_scraper(sample_name, sample_page)\n",
    "    sample_df=pd.DataFrame(res)\n",
    "    sample_df['lounge']=sample_name\n",
    "    sample_res_dataframe[sample_name]=sample_df\n",
    "print(sample_res_dataframe)"
   ],
   "metadata": {
    "collapsed": false,
    "ExecuteTime": {
     "end_time": "2024-05-21T17:00:14.272006Z",
     "start_time": "2024-05-21T17:00:12.291037Z"
    }
   },
   "id": "f612e57347746373",
   "execution_count": 15
  },
  {
   "cell_type": "code",
   "outputs": [
    {
     "name": "stdout",
     "output_type": "stream",
     "text": [
      "154\n"
     ]
    }
   ],
   "source": [
    "final_lounges_data={}\n",
    "for lounge_name,lounge_page in lounge_page.items():\n",
    "    res=content_scraper(lounge_name, lounge_page)\n",
    "    lounge_df=pd.DataFrame(res)\n",
    "    lounge_df['Lounge']=lounge_name\n",
    "    final_lounges_data[lounge_name]=lounge_df\n",
    "print(len(final_lounges_data))"
   ],
   "metadata": {
    "collapsed": false,
    "ExecuteTime": {
     "end_time": "2024-05-21T17:08:24.393767Z",
     "start_time": "2024-05-21T17:06:08.451286Z"
    }
   },
   "id": "d76b3ecbe569972a",
   "execution_count": 20
  },
  {
   "cell_type": "code",
   "outputs": [
    {
     "data": {
      "text/plain": "                               title rating nationality                 date  \\\n0     \"selection of drinks was good\"      7     Austria   11th February 2017   \n1   \"decoration is fresh and modern\"      3       Spain       9th March 2014   \n2        \"the food options are good\"      8    Portugal     8th January 2022   \n3    \"staff very polite and helpful\"      6      Greece       5th March 2020   \n4  \"staff is friendly and courteous\"     10     Germany  22nd September 2019   \n\n                                             content             Lounge Name  \\\n0  ❎Unverified|  The Adria Airways Business Loung...         Business Lounge   \n1  There are 2 separate areas with arm chairs and...                     NaN   \n2  Not Verified| The lounge is spacious, good lig...  Aegean Business Lounge   \n3  ✅Trip Verified|  The lounge is often crowded, ...                     NaN   \n4  ✅Trip Verified|  Modern lounge, good size, at ...           Aegean Lounge   \n\n             Airport  Type Of Lounge      Date Visit Type Of Traveller  \\\n0  Ljubljana Airport  Business Class   December 2016          Business   \n1                NaN  Business Class             NaN          Business   \n2     Athens Airport  Frequent Flyer    January 2022               NaN   \n3     Athens Airport  Business Class      March 2020          Business   \n4     Athens Airport  Business Class  September 2019          Business   \n\n   Comfort  Cleanliness Bar & Beverages Catering  Washrooms Wifi Connectivity  \\\n0      5.0          4.0               5        1        4.0                 3   \n1      3.0          4.0               3        3        3.0                 2   \n2      5.0          4.0               4        4        NaN                 5   \n3      3.0          4.0               4        2        3.0                 4   \n4      5.0          5.0               5        5        4.0                 5   \n\n   Staff Service Recommended           Lounge Type Of Lounge Other  \n0            4.0         yes    adria-airways                  NaN  \n1            2.0         yes    adria-airways                  NaN  \n2            4.0         yes  aegean-airlines                  NaN  \n3            5.0         yes  aegean-airlines                  NaN  \n4            5.0         yes  aegean-airlines                  NaN  ",
      "text/html": "<div>\n<style scoped>\n    .dataframe tbody tr th:only-of-type {\n        vertical-align: middle;\n    }\n\n    .dataframe tbody tr th {\n        vertical-align: top;\n    }\n\n    .dataframe thead th {\n        text-align: right;\n    }\n</style>\n<table border=\"1\" class=\"dataframe\">\n  <thead>\n    <tr style=\"text-align: right;\">\n      <th></th>\n      <th>title</th>\n      <th>rating</th>\n      <th>nationality</th>\n      <th>date</th>\n      <th>content</th>\n      <th>Lounge Name</th>\n      <th>Airport</th>\n      <th>Type Of Lounge</th>\n      <th>Date Visit</th>\n      <th>Type Of Traveller</th>\n      <th>Comfort</th>\n      <th>Cleanliness</th>\n      <th>Bar &amp; Beverages</th>\n      <th>Catering</th>\n      <th>Washrooms</th>\n      <th>Wifi Connectivity</th>\n      <th>Staff Service</th>\n      <th>Recommended</th>\n      <th>Lounge</th>\n      <th>Type Of Lounge Other</th>\n    </tr>\n  </thead>\n  <tbody>\n    <tr>\n      <th>0</th>\n      <td>\"selection of drinks was good\"</td>\n      <td>7</td>\n      <td>Austria</td>\n      <td>11th February 2017</td>\n      <td>❎Unverified|  The Adria Airways Business Loung...</td>\n      <td>Business Lounge</td>\n      <td>Ljubljana Airport</td>\n      <td>Business Class</td>\n      <td>December 2016</td>\n      <td>Business</td>\n      <td>5.0</td>\n      <td>4.0</td>\n      <td>5</td>\n      <td>1</td>\n      <td>4.0</td>\n      <td>3</td>\n      <td>4.0</td>\n      <td>yes</td>\n      <td>adria-airways</td>\n      <td>NaN</td>\n    </tr>\n    <tr>\n      <th>1</th>\n      <td>\"decoration is fresh and modern\"</td>\n      <td>3</td>\n      <td>Spain</td>\n      <td>9th March 2014</td>\n      <td>There are 2 separate areas with arm chairs and...</td>\n      <td>NaN</td>\n      <td>NaN</td>\n      <td>Business Class</td>\n      <td>NaN</td>\n      <td>Business</td>\n      <td>3.0</td>\n      <td>4.0</td>\n      <td>3</td>\n      <td>3</td>\n      <td>3.0</td>\n      <td>2</td>\n      <td>2.0</td>\n      <td>yes</td>\n      <td>adria-airways</td>\n      <td>NaN</td>\n    </tr>\n    <tr>\n      <th>2</th>\n      <td>\"the food options are good\"</td>\n      <td>8</td>\n      <td>Portugal</td>\n      <td>8th January 2022</td>\n      <td>Not Verified| The lounge is spacious, good lig...</td>\n      <td>Aegean Business Lounge</td>\n      <td>Athens Airport</td>\n      <td>Frequent Flyer</td>\n      <td>January 2022</td>\n      <td>NaN</td>\n      <td>5.0</td>\n      <td>4.0</td>\n      <td>4</td>\n      <td>4</td>\n      <td>NaN</td>\n      <td>5</td>\n      <td>4.0</td>\n      <td>yes</td>\n      <td>aegean-airlines</td>\n      <td>NaN</td>\n    </tr>\n    <tr>\n      <th>3</th>\n      <td>\"staff very polite and helpful\"</td>\n      <td>6</td>\n      <td>Greece</td>\n      <td>5th March 2020</td>\n      <td>✅Trip Verified|  The lounge is often crowded, ...</td>\n      <td>NaN</td>\n      <td>Athens Airport</td>\n      <td>Business Class</td>\n      <td>March 2020</td>\n      <td>Business</td>\n      <td>3.0</td>\n      <td>4.0</td>\n      <td>4</td>\n      <td>2</td>\n      <td>3.0</td>\n      <td>4</td>\n      <td>5.0</td>\n      <td>yes</td>\n      <td>aegean-airlines</td>\n      <td>NaN</td>\n    </tr>\n    <tr>\n      <th>4</th>\n      <td>\"staff is friendly and courteous\"</td>\n      <td>10</td>\n      <td>Germany</td>\n      <td>22nd September 2019</td>\n      <td>✅Trip Verified|  Modern lounge, good size, at ...</td>\n      <td>Aegean Lounge</td>\n      <td>Athens Airport</td>\n      <td>Business Class</td>\n      <td>September 2019</td>\n      <td>Business</td>\n      <td>5.0</td>\n      <td>5.0</td>\n      <td>5</td>\n      <td>5</td>\n      <td>4.0</td>\n      <td>5</td>\n      <td>5.0</td>\n      <td>yes</td>\n      <td>aegean-airlines</td>\n      <td>NaN</td>\n    </tr>\n  </tbody>\n</table>\n</div>"
     },
     "execution_count": 21,
     "metadata": {},
     "output_type": "execute_result"
    }
   ],
   "source": [
    "lounge_dt=pd.concat(final_lounges_data.values(),ignore_index=True)\n",
    "lounge_dt.head()"
   ],
   "metadata": {
    "collapsed": false,
    "ExecuteTime": {
     "end_time": "2024-05-21T17:10:23.974507Z",
     "start_time": "2024-05-21T17:10:23.901624Z"
    }
   },
   "id": "10c5ab9b1b6bfe42",
   "execution_count": 21
  },
  {
   "cell_type": "code",
   "outputs": [
    {
     "data": {
      "text/plain": "Index(['title', 'rating', 'nationality', 'date', 'content', 'Lounge Name',\n       'Airport', 'Type Of Lounge', 'Date Visit', 'Type Of Traveller',\n       'Comfort', 'Cleanliness', 'Bar & Beverages', 'Catering', 'Washrooms',\n       'Wifi Connectivity', 'Staff Service', 'Recommended', 'Lounge',\n       'Type Of Lounge Other'],\n      dtype='object')"
     },
     "execution_count": 22,
     "metadata": {},
     "output_type": "execute_result"
    }
   ],
   "source": [
    "lounge_dt.columns"
   ],
   "metadata": {
    "collapsed": false,
    "ExecuteTime": {
     "end_time": "2024-05-21T17:11:02.631264Z",
     "start_time": "2024-05-21T17:11:02.615890Z"
    }
   },
   "id": "5e03e008c721d456",
   "execution_count": 22
  },
  {
   "cell_type": "code",
   "outputs": [
    {
     "data": {
      "text/plain": "              Lounge Name           Lounge                              title  \\\n0         Business Lounge    adria-airways     \"selection of drinks was good\"   \n1                     NaN    adria-airways   \"decoration is fresh and modern\"   \n2  Aegean Business Lounge  aegean-airlines        \"the food options are good\"   \n3                     NaN  aegean-airlines    \"staff very polite and helpful\"   \n4           Aegean Lounge  aegean-airlines  \"staff is friendly and courteous\"   \n\n  rating nationality                 date  \\\n0      7     Austria   11th February 2017   \n1      3       Spain       9th March 2014   \n2      8    Portugal     8th January 2022   \n3      6      Greece       5th March 2020   \n4     10     Germany  22nd September 2019   \n\n                                             content            Airport  \\\n0  ❎Unverified|  The Adria Airways Business Loung...  Ljubljana Airport   \n1  There are 2 separate areas with arm chairs and...                NaN   \n2  Not Verified| The lounge is spacious, good lig...     Athens Airport   \n3  ✅Trip Verified|  The lounge is often crowded, ...     Athens Airport   \n4  ✅Trip Verified|  Modern lounge, good size, at ...     Athens Airport   \n\n   Type Of Lounge      Date Visit Type Of Traveller  Comfort  Cleanliness  \\\n0  Business Class   December 2016          Business      5.0          4.0   \n1  Business Class             NaN          Business      3.0          4.0   \n2  Frequent Flyer    January 2022               NaN      5.0          4.0   \n3  Business Class      March 2020          Business      3.0          4.0   \n4  Business Class  September 2019          Business      5.0          5.0   \n\n  Bar & Beverages Catering  Washrooms Wifi Connectivity  Staff Service  \\\n0               5        1        4.0                 3            4.0   \n1               3        3        3.0                 2            2.0   \n2               4        4        NaN                 5            4.0   \n3               4        2        3.0                 4            5.0   \n4               5        5        4.0                 5            5.0   \n\n  Recommended Type Of Lounge Other  \n0         yes                  NaN  \n1         yes                  NaN  \n2         yes                  NaN  \n3         yes                  NaN  \n4         yes                  NaN  ",
      "text/html": "<div>\n<style scoped>\n    .dataframe tbody tr th:only-of-type {\n        vertical-align: middle;\n    }\n\n    .dataframe tbody tr th {\n        vertical-align: top;\n    }\n\n    .dataframe thead th {\n        text-align: right;\n    }\n</style>\n<table border=\"1\" class=\"dataframe\">\n  <thead>\n    <tr style=\"text-align: right;\">\n      <th></th>\n      <th>Lounge Name</th>\n      <th>Lounge</th>\n      <th>title</th>\n      <th>rating</th>\n      <th>nationality</th>\n      <th>date</th>\n      <th>content</th>\n      <th>Airport</th>\n      <th>Type Of Lounge</th>\n      <th>Date Visit</th>\n      <th>Type Of Traveller</th>\n      <th>Comfort</th>\n      <th>Cleanliness</th>\n      <th>Bar &amp; Beverages</th>\n      <th>Catering</th>\n      <th>Washrooms</th>\n      <th>Wifi Connectivity</th>\n      <th>Staff Service</th>\n      <th>Recommended</th>\n      <th>Type Of Lounge Other</th>\n    </tr>\n  </thead>\n  <tbody>\n    <tr>\n      <th>0</th>\n      <td>Business Lounge</td>\n      <td>adria-airways</td>\n      <td>\"selection of drinks was good\"</td>\n      <td>7</td>\n      <td>Austria</td>\n      <td>11th February 2017</td>\n      <td>❎Unverified|  The Adria Airways Business Loung...</td>\n      <td>Ljubljana Airport</td>\n      <td>Business Class</td>\n      <td>December 2016</td>\n      <td>Business</td>\n      <td>5.0</td>\n      <td>4.0</td>\n      <td>5</td>\n      <td>1</td>\n      <td>4.0</td>\n      <td>3</td>\n      <td>4.0</td>\n      <td>yes</td>\n      <td>NaN</td>\n    </tr>\n    <tr>\n      <th>1</th>\n      <td>NaN</td>\n      <td>adria-airways</td>\n      <td>\"decoration is fresh and modern\"</td>\n      <td>3</td>\n      <td>Spain</td>\n      <td>9th March 2014</td>\n      <td>There are 2 separate areas with arm chairs and...</td>\n      <td>NaN</td>\n      <td>Business Class</td>\n      <td>NaN</td>\n      <td>Business</td>\n      <td>3.0</td>\n      <td>4.0</td>\n      <td>3</td>\n      <td>3</td>\n      <td>3.0</td>\n      <td>2</td>\n      <td>2.0</td>\n      <td>yes</td>\n      <td>NaN</td>\n    </tr>\n    <tr>\n      <th>2</th>\n      <td>Aegean Business Lounge</td>\n      <td>aegean-airlines</td>\n      <td>\"the food options are good\"</td>\n      <td>8</td>\n      <td>Portugal</td>\n      <td>8th January 2022</td>\n      <td>Not Verified| The lounge is spacious, good lig...</td>\n      <td>Athens Airport</td>\n      <td>Frequent Flyer</td>\n      <td>January 2022</td>\n      <td>NaN</td>\n      <td>5.0</td>\n      <td>4.0</td>\n      <td>4</td>\n      <td>4</td>\n      <td>NaN</td>\n      <td>5</td>\n      <td>4.0</td>\n      <td>yes</td>\n      <td>NaN</td>\n    </tr>\n    <tr>\n      <th>3</th>\n      <td>NaN</td>\n      <td>aegean-airlines</td>\n      <td>\"staff very polite and helpful\"</td>\n      <td>6</td>\n      <td>Greece</td>\n      <td>5th March 2020</td>\n      <td>✅Trip Verified|  The lounge is often crowded, ...</td>\n      <td>Athens Airport</td>\n      <td>Business Class</td>\n      <td>March 2020</td>\n      <td>Business</td>\n      <td>3.0</td>\n      <td>4.0</td>\n      <td>4</td>\n      <td>2</td>\n      <td>3.0</td>\n      <td>4</td>\n      <td>5.0</td>\n      <td>yes</td>\n      <td>NaN</td>\n    </tr>\n    <tr>\n      <th>4</th>\n      <td>Aegean Lounge</td>\n      <td>aegean-airlines</td>\n      <td>\"staff is friendly and courteous\"</td>\n      <td>10</td>\n      <td>Germany</td>\n      <td>22nd September 2019</td>\n      <td>✅Trip Verified|  Modern lounge, good size, at ...</td>\n      <td>Athens Airport</td>\n      <td>Business Class</td>\n      <td>September 2019</td>\n      <td>Business</td>\n      <td>5.0</td>\n      <td>5.0</td>\n      <td>5</td>\n      <td>5</td>\n      <td>4.0</td>\n      <td>5</td>\n      <td>5.0</td>\n      <td>yes</td>\n      <td>NaN</td>\n    </tr>\n  </tbody>\n</table>\n</div>"
     },
     "execution_count": 23,
     "metadata": {},
     "output_type": "execute_result"
    }
   ],
   "source": [
    "raw_lounge_dt=lounge_dt.loc[:,['Lounge Name','Lounge','title', 'rating', 'nationality', 'date', 'content',\n",
    "       'Airport', 'Type Of Lounge', 'Date Visit', 'Type Of Traveller',\n",
    "       'Comfort', 'Cleanliness', 'Bar & Beverages', 'Catering', 'Washrooms',\n",
    "       'Wifi Connectivity', 'Staff Service', 'Recommended',\n",
    "       'Type Of Lounge Other']]\n",
    "raw_lounge_dt.head()"
   ],
   "metadata": {
    "collapsed": false,
    "ExecuteTime": {
     "end_time": "2024-05-21T17:14:42.090262Z",
     "start_time": "2024-05-21T17:14:42.061186Z"
    }
   },
   "id": "392fd76728fa0312",
   "execution_count": 23
  },
  {
   "cell_type": "code",
   "outputs": [],
   "source": [
    "raw_lounge_dt.to_csv('raw_lounge_data.csv',index=False)"
   ],
   "metadata": {
    "collapsed": false,
    "ExecuteTime": {
     "end_time": "2024-05-21T17:17:18.025227Z",
     "start_time": "2024-05-21T17:17:17.943700Z"
    }
   },
   "id": "b0d92e7fc119dde5",
   "execution_count": 26
  },
  {
   "cell_type": "code",
   "outputs": [],
   "source": [],
   "metadata": {
    "collapsed": false
   },
   "id": "b5b6a98503575363"
  }
 ],
 "metadata": {
  "kernelspec": {
   "display_name": "Python 3",
   "language": "python",
   "name": "python3"
  },
  "language_info": {
   "codemirror_mode": {
    "name": "ipython",
    "version": 2
   },
   "file_extension": ".py",
   "mimetype": "text/x-python",
   "name": "python",
   "nbconvert_exporter": "python",
   "pygments_lexer": "ipython2",
   "version": "2.7.6"
  }
 },
 "nbformat": 4,
 "nbformat_minor": 5
}
