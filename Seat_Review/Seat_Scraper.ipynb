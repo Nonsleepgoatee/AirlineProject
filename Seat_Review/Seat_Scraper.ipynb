{
 "cells": [
  {
   "cell_type": "code",
   "execution_count": 1,
   "id": "initial_id",
   "metadata": {
    "collapsed": true,
    "ExecuteTime": {
     "end_time": "2024-05-23T13:53:06.851554Z",
     "start_time": "2024-05-23T13:53:05.696435Z"
    }
   },
   "outputs": [],
   "source": [
    "import pandas as pd\n",
    "from bs4 import BeautifulSoup\n",
    "import requests\n",
    "import re"
   ]
  },
  {
   "cell_type": "code",
   "outputs": [
    {
     "name": "stdout",
     "output_type": "stream",
     "text": [
      "201\n"
     ]
    }
   ],
   "source": [
    "#get all the airplines' name\n",
    "import requests\n",
    "from bs4 import BeautifulSoup\n",
    "url='https://www.airlinequality.com/review-pages/a-z-seat-reviews/'\n",
    "page=requests.get(url)\n",
    "soup=BeautifulSoup(page.content,'html.parser')\n",
    "name_section=soup.find_all('div',class_='content')\n",
    "names=[]\n",
    "for letter in name_section:\n",
    "    airlines=letter.find_all('li')\n",
    "    for airline in airlines:\n",
    "        name=airline.find('a').get_text(strip=True)\n",
    "        names.append(name)\n",
    "print(len(names))"
   ],
   "metadata": {
    "collapsed": false,
    "ExecuteTime": {
     "end_time": "2024-05-23T13:59:38.939841Z",
     "start_time": "2024-05-23T13:59:37.713127Z"
    }
   },
   "id": "844f74f6abb183c5",
   "execution_count": 2
  },
  {
   "cell_type": "code",
   "outputs": [],
   "source": [
    "#transform the name format\n",
    "def name_transformation(name):\n",
    "    import re\n",
    "    name=name.lower()\n",
    "    name=re.sub(' ','-',name)\n",
    "    return name"
   ],
   "metadata": {
    "collapsed": false,
    "ExecuteTime": {
     "end_time": "2024-05-23T13:59:53.798934Z",
     "start_time": "2024-05-23T13:59:53.791759Z"
    }
   },
   "id": "89756b813316f751",
   "execution_count": 3
  },
  {
   "cell_type": "code",
   "outputs": [
    {
     "name": "stdout",
     "output_type": "stream",
     "text": [
      "['aegean-airlines', 'aer-lingus', 'aeroflot-russian-airlines', 'aerolineas-argentinas', 'aeromexico', 'air-astana', 'air-berlin', 'air-busan', 'air-canada', 'air-canada-rouge', 'air-china', 'air-corsica', 'air-dolomiti', 'air-europa', 'air-france', 'air-india', 'air-india-express', 'air-italy', 'air-mauritius', 'air-new-zealand', \"air-north-yukon's-airline\", 'air-serbia', 'air-tahiti-nui', 'air-transat', 'airasia', 'airasia-india', 'airasia-philippines', 'airasia-x', 'alaska-airlines', 'alitalia', 'allegiant-air', 'american-airlines', 'american-eagle', 'ana-all-nippon-airways', 'asiana-airlines', 'atlasglobal', 'austrian-airlines', 'avianca', 'azul-airlines', 'ba-cityflyer', 'bamboo-airways', 'bangkok-airways', 'batik-air', 'blue-air', 'boliviana-de-aviacion', 'british-airways', 'brussels-airlines', 'buddha-air', 'bulgaria-air', 'buta-airways', 'cathay-dragon', 'cathay-pacific-airways', 'cebu-pacific', 'china-airlines', 'china-eastern-airlines', 'china-southern-airlines', 'citilink', 'cityjet', 'condor-airlines', 'copa-airlines', 'corsair', 'croatia-airlines', 'csa-czech-airlines', 'delta-air-lines', 'easyjet', 'edelweiss-air', 'egyptair', 'el-al-israel-airlines', 'emirates', 'ethiopian-airlines', 'etihad-airways', 'euroatlantic-airways', 'eurowings', 'eva-air', 'fiji-airways', 'finnair', 'flair-airlines', 'flydubai', 'flynas', 'frontier-airlines', 'garuda-indonesia', 'germania-airline', 'germanwings', 'greater-bay-airlines', 'gulf-air', 'hainan-airlines', 'hawaiian-airlines', 'hk-express', 'hong-kong-airlines', 'hop!', 'iberia', 'iberia-express', 'icelandair', 'indigo', 'iran-air', 'ita-airways', 'japan-airlines', 'jet-airways', 'jet2.com', 'jetblue-airways', 'jetstar-airways', 'jetstar-asia', 'jetstar-japan', 'jetstar-pacific', 'joon', 'juneyao-air', 'kenya-airways', 'klm-royal-dutch-airlines', 'korean-air', 'kulula', 'kuwait-airways', 'lan-airlines', 'lan-peru', 'latam-airlines', 'level', 'liat', 'lion-air', 'lot-polish-airlines', 'lufthansa', 'malawian-airlines', 'malaysia-airlines', 'malindo-air', 'meridiana', 'middle-east-airlines', 'mihin-lanka', 'monarch-airlines', 'nam-air', 'norwegian', 'olympic-air', 'oman-air', 'pakistan-intl-airlines', 'peach-aviation', 'pegasus-airlines', 'philippine-airlines', 'play', 'privilege-style', 'qantas-airways', 'qantaslink', 'qatar-airways', 'regional-express', 'royal-brunei-airlines', 'royal-jordanian-airlines', 'rwandair', 'ryanair', 's7-siberia-airlines', 'sas-scandinavian', 'sata-international', 'saudi-arabian-airlines', 'scoot', 'silkair', 'singapore-airlines', 'small-planet-airlines', 'smartwings', 'south-african-airways', 'southwest-airlines', 'spicejet', 'spirit-airlines', 'srilankan-airlines', 'sriwijaya-air', 'starlux-airlines', 'sun-country-airlines', 'sunwing-airlines', 'swiss-intl-air-lines', 'tam-airlines', 'tap-portugal', 'tar-aerolineas', 'thai-airasia', 'thai-airways', 'thai-smile-airways', 'thomas-cook-airlines', 'thomson-airways', 'tigerair', 'tigerair-australia', 'transaero-airlines', 'transavia', 'tui-airways', 'tuifly', 'tuifly-nordic', 'tunisair', 'turkish-airlines', 'ukraine-international', 'united-airlines', 'up-by-el-al', 'us-airways', 'uzbekistan-airways', 'vietjet-air', 'vietnam-airlines', 'virgin-america', 'virgin-atlantic', 'virgin-australia', 'vistara', 'vivacolombia', 'volaris', 'volotea', 'vueling-airlines', 'westjet-airlines', 'wingo', 'wizz-air', 'wow-air', 'xl-airways-france', 'zipair']\n"
     ]
    }
   ],
   "source": [
    "url_name=[name_transformation(name) for name in names]\n",
    "print(url_name)"
   ],
   "metadata": {
    "collapsed": false,
    "ExecuteTime": {
     "end_time": "2024-05-23T14:00:10.023836Z",
     "start_time": "2024-05-23T14:00:10.019152Z"
    }
   },
   "id": "d4d04fd45a02b0b8",
   "execution_count": 4
  },
  {
   "cell_type": "code",
   "outputs": [],
   "source": [
    "#get the page\n",
    "def page_scraper(airline_name):\n",
    "    url='https://www.airlinequality.com/seat-reviews/{}/?sortby=post_date%3ADesc&pagesize=100'\n",
    "    try:\n",
    "        response=requests.get(url.format(airline_name))\n",
    "        soup=BeautifulSoup(response.content,'html.parser')\n",
    "        panel=soup.find('article',class_='comp comp_reviews-pagination querylist-pagination position-')\n",
    "        if panel==None:\n",
    "            page=1\n",
    "        else:\n",
    "            page_list=panel.find_all('a')\n",
    "            page=page_list[-2].text\n",
    "    except requests.RequestException as e:\n",
    "        print(f'Error fecting the page {airline_name}:{e}')\n",
    "        page=None\n",
    "    return page"
   ],
   "metadata": {
    "collapsed": false,
    "ExecuteTime": {
     "end_time": "2024-05-23T14:00:46.396811Z",
     "start_time": "2024-05-23T14:00:46.391603Z"
    }
   },
   "id": "303b9b58ec7201",
   "execution_count": 5
  },
  {
   "cell_type": "code",
   "outputs": [
    {
     "name": "stdout",
     "output_type": "stream",
     "text": [
      "{'aegean-airlines': 1, 'aer-lingus': 1, 'aeroflot-russian-airlines': 1, 'aerolineas-argentinas': 1, 'aeromexico': 1, 'air-astana': 1, 'air-berlin': 1, 'air-busan': 1, 'air-canada': 1, 'air-canada-rouge': 1, 'air-china': 1, 'air-corsica': 1, 'air-dolomiti': 1, 'air-europa': 1, 'air-france': '2', 'air-india': 1, 'air-india-express': 1, 'air-italy': 1, 'air-mauritius': 1, 'air-new-zealand': 1, \"air-north-yukon's-airline\": 1, 'air-serbia': 1, 'air-tahiti-nui': 1, 'air-transat': 1, 'airasia': 1, 'airasia-india': 1, 'airasia-philippines': 1, 'airasia-x': 1, 'alaska-airlines': 1, 'alitalia': 1, 'allegiant-air': 1, 'american-airlines': '2', 'american-eagle': 1, 'ana-all-nippon-airways': 1, 'asiana-airlines': 1, 'atlasglobal': 1, 'austrian-airlines': 1, 'avianca': 1, 'azul-airlines': 1, 'ba-cityflyer': 1, 'bamboo-airways': 1, 'bangkok-airways': 1, 'batik-air': 1, 'blue-air': 1, 'boliviana-de-aviacion': 1, 'british-airways': '2', 'brussels-airlines': 1, 'buddha-air': 1, 'bulgaria-air': 1, 'buta-airways': 1, 'cathay-dragon': 1, 'cathay-pacific-airways': '2', 'cebu-pacific': 1, 'china-airlines': 1, 'china-eastern-airlines': 1, 'china-southern-airlines': 1, 'citilink': 1, 'cityjet': 1, 'condor-airlines': 1, 'copa-airlines': 1, 'corsair': 1, 'croatia-airlines': 1, 'csa-czech-airlines': 1, 'delta-air-lines': 1, 'easyjet': 1, 'edelweiss-air': 1, 'egyptair': 1, 'el-al-israel-airlines': 1, 'emirates': '2', 'ethiopian-airlines': 1, 'etihad-airways': 1, 'euroatlantic-airways': 1, 'eurowings': 1, 'eva-air': 1, 'fiji-airways': 1, 'finnair': 1, 'flair-airlines': 1, 'flydubai': 1, 'flynas': 1, 'frontier-airlines': 1, 'garuda-indonesia': 1, 'germania-airline': 1, 'germanwings': 1, 'greater-bay-airlines': 1, 'gulf-air': 1, 'hainan-airlines': 1, 'hawaiian-airlines': 1, 'hk-express': 1, 'hong-kong-airlines': 1, 'hop!': 1, 'iberia': 1, 'iberia-express': 1, 'icelandair': 1, 'indigo': 1, 'iran-air': 1, 'ita-airways': 1, 'japan-airlines': 1, 'jet-airways': 1, 'jet2.com': 1, 'jetblue-airways': 1, 'jetstar-airways': 1, 'jetstar-asia': 1, 'jetstar-japan': 1, 'jetstar-pacific': 1, 'joon': 1, 'juneyao-air': 1, 'kenya-airways': 1, 'klm-royal-dutch-airlines': '2', 'korean-air': 1, 'kulula': 1, 'kuwait-airways': 1, 'lan-airlines': 1, 'lan-peru': 1, 'latam-airlines': 1, 'level': 1, 'liat': 1, 'lion-air': 1, 'lot-polish-airlines': 1, 'lufthansa': '2', 'malawian-airlines': 1, 'malaysia-airlines': 1, 'malindo-air': 1, 'meridiana': 1, 'middle-east-airlines': 1, 'mihin-lanka': 1, 'monarch-airlines': 1, 'nam-air': 1, 'norwegian': 1, 'olympic-air': 1, 'oman-air': 1, 'pakistan-intl-airlines': 1, 'peach-aviation': 1, 'pegasus-airlines': 1, 'philippine-airlines': 1, 'play': 1, 'privilege-style': 1, 'qantas-airways': 1, 'qantaslink': 1, 'qatar-airways': '2', 'regional-express': 1, 'royal-brunei-airlines': 1, 'royal-jordanian-airlines': 1, 'rwandair': 1, 'ryanair': 1, 's7-siberia-airlines': 1, 'sas-scandinavian': 1, 'sata-international': 1, 'saudi-arabian-airlines': 1, 'scoot': 1, 'silkair': 1, 'singapore-airlines': '2', 'small-planet-airlines': 1, 'smartwings': 1, 'south-african-airways': 1, 'southwest-airlines': 1, 'spicejet': 1, 'spirit-airlines': 1, 'srilankan-airlines': 1, 'sriwijaya-air': 1, 'starlux-airlines': 1, 'sun-country-airlines': 1, 'sunwing-airlines': 1, 'swiss-intl-air-lines': 1, 'tam-airlines': 1, 'tap-portugal': 1, 'tar-aerolineas': 1, 'thai-airasia': 1, 'thai-airways': 1, 'thai-smile-airways': 1, 'thomas-cook-airlines': 1, 'thomson-airways': 1, 'tigerair': 1, 'tigerair-australia': 1, 'transaero-airlines': 1, 'transavia': 1, 'tui-airways': 1, 'tuifly': 1, 'tuifly-nordic': 1, 'tunisair': 1, 'turkish-airlines': 1, 'ukraine-international': 1, 'united-airlines': 1, 'up-by-el-al': 1, 'us-airways': 1, 'uzbekistan-airways': 1, 'vietjet-air': 1, 'vietnam-airlines': 1, 'virgin-america': 1, 'virgin-atlantic': 1, 'virgin-australia': 1, 'vistara': 1, 'vivacolombia': 1, 'volaris': 1, 'volotea': 1, 'vueling-airlines': 1, 'westjet-airlines': 1, 'wingo': 1, 'wizz-air': 1, 'wow-air': 1, 'xl-airways-france': 1, 'zipair': 1}\n"
     ]
    }
   ],
   "source": [
    "seat_page={}\n",
    "for airline in url_name:\n",
    "    page=page_scraper(airline)\n",
    "    seat_page[airline]=page\n",
    "print(seat_page)"
   ],
   "metadata": {
    "collapsed": false,
    "ExecuteTime": {
     "end_time": "2024-05-23T14:05:04.532630Z",
     "start_time": "2024-05-23T14:01:10.347472Z"
    }
   },
   "id": "723fcaa3b4b4f118",
   "execution_count": 6
  },
  {
   "cell_type": "code",
   "outputs": [],
   "source": [
    "def content_scraper(airline_name,max_page):\n",
    "    url='https://www.airlinequality.com/seat-reviews/{}/page/{}/?sortby=post_date%3ADesc&pagesize=100'\n",
    "    res=[]\n",
    "    for i in range(1,int(max_page)+1):\n",
    "        formatted_url=url.format(airline_name,i)\n",
    "        response = requests.get(formatted_url)\n",
    "        soup = BeautifulSoup(response.content, 'html.parser')\n",
    "        review_list=soup.find_all('article', itemprop='review')\n",
    "        for review in review_list:\n",
    "            r={}\n",
    "            r['title']=review.find('h2').get_text(strip=True) if review.find('h2') else 'No title'\n",
    "            r['rating']=review.find('span',itemprop='ratingValue').get_text(strip=True) if review.find('span',itemprop='ratingValue') else 'No rating'\n",
    "            customer_status=review.find('h3',class_='text_sub_header userStatusWrapper').get_text(strip=True)\n",
    "            na_match=re.search(r'\\(([^)]+)\\)', customer_status)\n",
    "            if na_match:\n",
    "                r['nationality']=na_match.group(1)\n",
    "            date_match=re.search(r'\\d+\\w*\\s+[A-Za-z]+\\s+\\d{4}', customer_status)\n",
    "            if date_match:\n",
    "                r['date']=date_match.group(0)\n",
    "            r['content']=review.find('div',class_='text_content').get_text(strip=True) if review.find('div',class_='text_content') else 'No content'\n",
    "            for tr in review.find_all('tr'):\n",
    "                detail_name = tr.find('td', class_='review-rating-header').text.strip()\n",
    "                detail_value_container = tr.find('td', class_='review-value') or tr.find('td', class_='review-rating-stars stars')\n",
    "                if detail_value_container:\n",
    "                    stars = detail_value_container.find_all('span', class_='fill')\n",
    "                    if stars:\n",
    "                        detail_value = len(stars)\n",
    "                    else:\n",
    "                        detail_value = detail_value_container.text.strip()\n",
    "                    r[detail_name] = detail_value\n",
    "            res.append(r)\n",
    "    return res"
   ],
   "metadata": {
    "collapsed": false,
    "ExecuteTime": {
     "end_time": "2024-05-23T14:05:40.736742Z",
     "start_time": "2024-05-23T14:05:40.730911Z"
    }
   },
   "id": "21e72c6c5f49359c",
   "execution_count": 7
  },
  {
   "cell_type": "code",
   "outputs": [
    {
     "name": "stdout",
     "output_type": "stream",
     "text": [
      "201\n"
     ]
    }
   ],
   "source": [
    "final_seats_data={}\n",
    "for seat_name,seat_page in seat_page.items():\n",
    "    res=content_scraper(seat_name, seat_page)\n",
    "    seat_df=pd.DataFrame(res)\n",
    "    seat_df['Seat']=seat_name\n",
    "    final_seats_data[seat_name]=seat_df\n",
    "print(len(final_seats_data))"
   ],
   "metadata": {
    "collapsed": false,
    "ExecuteTime": {
     "end_time": "2024-05-23T14:09:46.916019Z",
     "start_time": "2024-05-23T14:07:19.372897Z"
    }
   },
   "id": "ad2c2801b8c2c863",
   "execution_count": 8
  },
  {
   "cell_type": "code",
   "outputs": [
    {
     "data": {
      "text/plain": "                              title rating     nationality  \\\n0        \"The seat pitch was awful\"      3         Belgium   \n1    \"the new cabin is a downgrade\"      2         Germany   \n2      \"middle seat was kept empty\"      5  United Kingdom   \n3  \"have to pay for extra leg room\"      4          Greece   \n4          \"Never had less legroom\"      1     Switzerland   \n\n                 date                                            content  \\\n0     13th April 2024  ✅Trip Verified|  The new A320neo feels worse t...   \n1   7th November 2023  ✅Trip Verified|  Took a flight at 25B on A320n...   \n2   23rd October 2021  ✅Trip Verified|  Seating seemed to be the same...   \n3  25th February 2020  ✅Trip Verified|  Very good overall, but I'm ta...   \n4  21st February 2020  ✅Trip Verified|  Never had less legroom on a f...   \n\n        Seat Type Aircraft Type Seat Layout     Date Flown Type Of Traveller  \\\n0   Economy Class       A320neo         3x3     April 2024    Couple Leisure   \n1   Economy Class       A320neo         3x3   October 2023    Couple Leisure   \n2  Business Class          A320         2x2   October 2021           Leisure   \n3   Economy Class          A320         3x3  February 2020          Business   \n4   Economy Class       A320neo         3x3  February 2020          Business   \n\n   ...  Power Supply  Seat Storage  Recommended  Sleep Comfort  \\\n0  ...           5.0           4.0           no            NaN   \n1  ...           2.0           1.0           no            NaN   \n2  ...           NaN           3.0          yes            3.0   \n3  ...           3.0           3.0          yes            NaN   \n4  ...           5.0           1.0           no            NaN   \n\n   Sitting Comfort  Seat/bed Width Seat/bed Length  Seat Privacy  \\\n0              NaN             NaN             NaN           NaN   \n1              NaN             NaN             NaN           NaN   \n2              3.0             2.0             3.0           2.0   \n3              NaN             NaN             NaN           NaN   \n4              NaN             NaN             NaN           NaN   \n\n   Viewing Tv Screen             Seat  \n0                NaN  aegean-airlines  \n1                NaN  aegean-airlines  \n2                NaN  aegean-airlines  \n3                3.0  aegean-airlines  \n4                NaN  aegean-airlines  \n\n[5 rows x 24 columns]",
      "text/html": "<div>\n<style scoped>\n    .dataframe tbody tr th:only-of-type {\n        vertical-align: middle;\n    }\n\n    .dataframe tbody tr th {\n        vertical-align: top;\n    }\n\n    .dataframe thead th {\n        text-align: right;\n    }\n</style>\n<table border=\"1\" class=\"dataframe\">\n  <thead>\n    <tr style=\"text-align: right;\">\n      <th></th>\n      <th>title</th>\n      <th>rating</th>\n      <th>nationality</th>\n      <th>date</th>\n      <th>content</th>\n      <th>Seat Type</th>\n      <th>Aircraft Type</th>\n      <th>Seat Layout</th>\n      <th>Date Flown</th>\n      <th>Type Of Traveller</th>\n      <th>...</th>\n      <th>Power Supply</th>\n      <th>Seat Storage</th>\n      <th>Recommended</th>\n      <th>Sleep Comfort</th>\n      <th>Sitting Comfort</th>\n      <th>Seat/bed Width</th>\n      <th>Seat/bed Length</th>\n      <th>Seat Privacy</th>\n      <th>Viewing Tv Screen</th>\n      <th>Seat</th>\n    </tr>\n  </thead>\n  <tbody>\n    <tr>\n      <th>0</th>\n      <td>\"The seat pitch was awful\"</td>\n      <td>3</td>\n      <td>Belgium</td>\n      <td>13th April 2024</td>\n      <td>✅Trip Verified|  The new A320neo feels worse t...</td>\n      <td>Economy Class</td>\n      <td>A320neo</td>\n      <td>3x3</td>\n      <td>April 2024</td>\n      <td>Couple Leisure</td>\n      <td>...</td>\n      <td>5.0</td>\n      <td>4.0</td>\n      <td>no</td>\n      <td>NaN</td>\n      <td>NaN</td>\n      <td>NaN</td>\n      <td>NaN</td>\n      <td>NaN</td>\n      <td>NaN</td>\n      <td>aegean-airlines</td>\n    </tr>\n    <tr>\n      <th>1</th>\n      <td>\"the new cabin is a downgrade\"</td>\n      <td>2</td>\n      <td>Germany</td>\n      <td>7th November 2023</td>\n      <td>✅Trip Verified|  Took a flight at 25B on A320n...</td>\n      <td>Economy Class</td>\n      <td>A320neo</td>\n      <td>3x3</td>\n      <td>October 2023</td>\n      <td>Couple Leisure</td>\n      <td>...</td>\n      <td>2.0</td>\n      <td>1.0</td>\n      <td>no</td>\n      <td>NaN</td>\n      <td>NaN</td>\n      <td>NaN</td>\n      <td>NaN</td>\n      <td>NaN</td>\n      <td>NaN</td>\n      <td>aegean-airlines</td>\n    </tr>\n    <tr>\n      <th>2</th>\n      <td>\"middle seat was kept empty\"</td>\n      <td>5</td>\n      <td>United Kingdom</td>\n      <td>23rd October 2021</td>\n      <td>✅Trip Verified|  Seating seemed to be the same...</td>\n      <td>Business Class</td>\n      <td>A320</td>\n      <td>2x2</td>\n      <td>October 2021</td>\n      <td>Leisure</td>\n      <td>...</td>\n      <td>NaN</td>\n      <td>3.0</td>\n      <td>yes</td>\n      <td>3.0</td>\n      <td>3.0</td>\n      <td>2.0</td>\n      <td>3.0</td>\n      <td>2.0</td>\n      <td>NaN</td>\n      <td>aegean-airlines</td>\n    </tr>\n    <tr>\n      <th>3</th>\n      <td>\"have to pay for extra leg room\"</td>\n      <td>4</td>\n      <td>Greece</td>\n      <td>25th February 2020</td>\n      <td>✅Trip Verified|  Very good overall, but I'm ta...</td>\n      <td>Economy Class</td>\n      <td>A320</td>\n      <td>3x3</td>\n      <td>February 2020</td>\n      <td>Business</td>\n      <td>...</td>\n      <td>3.0</td>\n      <td>3.0</td>\n      <td>yes</td>\n      <td>NaN</td>\n      <td>NaN</td>\n      <td>NaN</td>\n      <td>NaN</td>\n      <td>NaN</td>\n      <td>3.0</td>\n      <td>aegean-airlines</td>\n    </tr>\n    <tr>\n      <th>4</th>\n      <td>\"Never had less legroom\"</td>\n      <td>1</td>\n      <td>Switzerland</td>\n      <td>21st February 2020</td>\n      <td>✅Trip Verified|  Never had less legroom on a f...</td>\n      <td>Economy Class</td>\n      <td>A320neo</td>\n      <td>3x3</td>\n      <td>February 2020</td>\n      <td>Business</td>\n      <td>...</td>\n      <td>5.0</td>\n      <td>1.0</td>\n      <td>no</td>\n      <td>NaN</td>\n      <td>NaN</td>\n      <td>NaN</td>\n      <td>NaN</td>\n      <td>NaN</td>\n      <td>NaN</td>\n      <td>aegean-airlines</td>\n    </tr>\n  </tbody>\n</table>\n<p>5 rows × 24 columns</p>\n</div>"
     },
     "execution_count": 9,
     "metadata": {},
     "output_type": "execute_result"
    }
   ],
   "source": [
    "seat_dt=pd.concat(final_seats_data.values(),ignore_index=True)\n",
    "seat_dt.head()"
   ],
   "metadata": {
    "collapsed": false,
    "ExecuteTime": {
     "end_time": "2024-05-23T14:12:00.728685Z",
     "start_time": "2024-05-23T14:12:00.653329Z"
    }
   },
   "id": "a3b640f93b63253b",
   "execution_count": 9
  },
  {
   "cell_type": "code",
   "outputs": [
    {
     "data": {
      "text/plain": "Index(['title', 'rating', 'nationality', 'date', 'content', 'Seat Type',\n       'Aircraft Type', 'Seat Layout', 'Date Flown', 'Type Of Traveller',\n       'Seat Legroom', 'Seat Recline', 'Seat Width', 'Aisle Space',\n       'Power Supply', 'Seat Storage', 'Recommended', 'Sleep Comfort',\n       'Sitting Comfort', 'Seat/bed Width', 'Seat/bed Length', 'Seat Privacy',\n       'Viewing Tv Screen', 'Seat'],\n      dtype='object')"
     },
     "execution_count": 10,
     "metadata": {},
     "output_type": "execute_result"
    }
   ],
   "source": [
    "seat_dt.columns"
   ],
   "metadata": {
    "collapsed": false,
    "ExecuteTime": {
     "end_time": "2024-05-23T14:12:27.227638Z",
     "start_time": "2024-05-23T14:12:27.222105Z"
    }
   },
   "id": "820e534f1275027f",
   "execution_count": 10
  },
  {
   "cell_type": "code",
   "outputs": [
    {
     "data": {
      "text/plain": "              Seat                             title rating     nationality  \\\n0  aegean-airlines        \"The seat pitch was awful\"      3         Belgium   \n1  aegean-airlines    \"the new cabin is a downgrade\"      2         Germany   \n2  aegean-airlines      \"middle seat was kept empty\"      5  United Kingdom   \n3  aegean-airlines  \"have to pay for extra leg room\"      4          Greece   \n4  aegean-airlines          \"Never had less legroom\"      1     Switzerland   \n\n                 date                                            content  \\\n0     13th April 2024  ✅Trip Verified|  The new A320neo feels worse t...   \n1   7th November 2023  ✅Trip Verified|  Took a flight at 25B on A320n...   \n2   23rd October 2021  ✅Trip Verified|  Seating seemed to be the same...   \n3  25th February 2020  ✅Trip Verified|  Very good overall, but I'm ta...   \n4  21st February 2020  ✅Trip Verified|  Never had less legroom on a f...   \n\n        Seat Type Aircraft Type Seat Layout     Date Flown  ... Aisle Space  \\\n0   Economy Class       A320neo         3x3     April 2024  ...         3.0   \n1   Economy Class       A320neo         3x3   October 2023  ...         1.0   \n2  Business Class          A320         2x2   October 2021  ...         NaN   \n3   Economy Class          A320         3x3  February 2020  ...         3.0   \n4   Economy Class       A320neo         3x3  February 2020  ...         3.0   \n\n   Power Supply  Seat Storage  Recommended  Sleep Comfort  Sitting Comfort  \\\n0           5.0           4.0           no            NaN              NaN   \n1           2.0           1.0           no            NaN              NaN   \n2           NaN           3.0          yes            3.0              3.0   \n3           3.0           3.0          yes            NaN              NaN   \n4           5.0           1.0           no            NaN              NaN   \n\n   Seat/bed Width Seat/bed Length  Seat Privacy  Viewing Tv Screen  \n0             NaN             NaN           NaN                NaN  \n1             NaN             NaN           NaN                NaN  \n2             2.0             3.0           2.0                NaN  \n3             NaN             NaN           NaN                3.0  \n4             NaN             NaN           NaN                NaN  \n\n[5 rows x 24 columns]",
      "text/html": "<div>\n<style scoped>\n    .dataframe tbody tr th:only-of-type {\n        vertical-align: middle;\n    }\n\n    .dataframe tbody tr th {\n        vertical-align: top;\n    }\n\n    .dataframe thead th {\n        text-align: right;\n    }\n</style>\n<table border=\"1\" class=\"dataframe\">\n  <thead>\n    <tr style=\"text-align: right;\">\n      <th></th>\n      <th>Seat</th>\n      <th>title</th>\n      <th>rating</th>\n      <th>nationality</th>\n      <th>date</th>\n      <th>content</th>\n      <th>Seat Type</th>\n      <th>Aircraft Type</th>\n      <th>Seat Layout</th>\n      <th>Date Flown</th>\n      <th>...</th>\n      <th>Aisle Space</th>\n      <th>Power Supply</th>\n      <th>Seat Storage</th>\n      <th>Recommended</th>\n      <th>Sleep Comfort</th>\n      <th>Sitting Comfort</th>\n      <th>Seat/bed Width</th>\n      <th>Seat/bed Length</th>\n      <th>Seat Privacy</th>\n      <th>Viewing Tv Screen</th>\n    </tr>\n  </thead>\n  <tbody>\n    <tr>\n      <th>0</th>\n      <td>aegean-airlines</td>\n      <td>\"The seat pitch was awful\"</td>\n      <td>3</td>\n      <td>Belgium</td>\n      <td>13th April 2024</td>\n      <td>✅Trip Verified|  The new A320neo feels worse t...</td>\n      <td>Economy Class</td>\n      <td>A320neo</td>\n      <td>3x3</td>\n      <td>April 2024</td>\n      <td>...</td>\n      <td>3.0</td>\n      <td>5.0</td>\n      <td>4.0</td>\n      <td>no</td>\n      <td>NaN</td>\n      <td>NaN</td>\n      <td>NaN</td>\n      <td>NaN</td>\n      <td>NaN</td>\n      <td>NaN</td>\n    </tr>\n    <tr>\n      <th>1</th>\n      <td>aegean-airlines</td>\n      <td>\"the new cabin is a downgrade\"</td>\n      <td>2</td>\n      <td>Germany</td>\n      <td>7th November 2023</td>\n      <td>✅Trip Verified|  Took a flight at 25B on A320n...</td>\n      <td>Economy Class</td>\n      <td>A320neo</td>\n      <td>3x3</td>\n      <td>October 2023</td>\n      <td>...</td>\n      <td>1.0</td>\n      <td>2.0</td>\n      <td>1.0</td>\n      <td>no</td>\n      <td>NaN</td>\n      <td>NaN</td>\n      <td>NaN</td>\n      <td>NaN</td>\n      <td>NaN</td>\n      <td>NaN</td>\n    </tr>\n    <tr>\n      <th>2</th>\n      <td>aegean-airlines</td>\n      <td>\"middle seat was kept empty\"</td>\n      <td>5</td>\n      <td>United Kingdom</td>\n      <td>23rd October 2021</td>\n      <td>✅Trip Verified|  Seating seemed to be the same...</td>\n      <td>Business Class</td>\n      <td>A320</td>\n      <td>2x2</td>\n      <td>October 2021</td>\n      <td>...</td>\n      <td>NaN</td>\n      <td>NaN</td>\n      <td>3.0</td>\n      <td>yes</td>\n      <td>3.0</td>\n      <td>3.0</td>\n      <td>2.0</td>\n      <td>3.0</td>\n      <td>2.0</td>\n      <td>NaN</td>\n    </tr>\n    <tr>\n      <th>3</th>\n      <td>aegean-airlines</td>\n      <td>\"have to pay for extra leg room\"</td>\n      <td>4</td>\n      <td>Greece</td>\n      <td>25th February 2020</td>\n      <td>✅Trip Verified|  Very good overall, but I'm ta...</td>\n      <td>Economy Class</td>\n      <td>A320</td>\n      <td>3x3</td>\n      <td>February 2020</td>\n      <td>...</td>\n      <td>3.0</td>\n      <td>3.0</td>\n      <td>3.0</td>\n      <td>yes</td>\n      <td>NaN</td>\n      <td>NaN</td>\n      <td>NaN</td>\n      <td>NaN</td>\n      <td>NaN</td>\n      <td>3.0</td>\n    </tr>\n    <tr>\n      <th>4</th>\n      <td>aegean-airlines</td>\n      <td>\"Never had less legroom\"</td>\n      <td>1</td>\n      <td>Switzerland</td>\n      <td>21st February 2020</td>\n      <td>✅Trip Verified|  Never had less legroom on a f...</td>\n      <td>Economy Class</td>\n      <td>A320neo</td>\n      <td>3x3</td>\n      <td>February 2020</td>\n      <td>...</td>\n      <td>3.0</td>\n      <td>5.0</td>\n      <td>1.0</td>\n      <td>no</td>\n      <td>NaN</td>\n      <td>NaN</td>\n      <td>NaN</td>\n      <td>NaN</td>\n      <td>NaN</td>\n      <td>NaN</td>\n    </tr>\n  </tbody>\n</table>\n<p>5 rows × 24 columns</p>\n</div>"
     },
     "execution_count": 11,
     "metadata": {},
     "output_type": "execute_result"
    }
   ],
   "source": [
    "raw_seat_dt=seat_dt.loc[:,['Seat','title', 'rating', 'nationality', 'date', 'content', 'Seat Type',\n",
    "       'Aircraft Type', 'Seat Layout', 'Date Flown', 'Type Of Traveller',\n",
    "       'Seat Legroom', 'Seat Recline', 'Seat Width', 'Aisle Space',\n",
    "       'Power Supply', 'Seat Storage', 'Recommended', 'Sleep Comfort',\n",
    "       'Sitting Comfort', 'Seat/bed Width', 'Seat/bed Length', 'Seat Privacy',\n",
    "       'Viewing Tv Screen']]\n",
    "raw_seat_dt.head()"
   ],
   "metadata": {
    "collapsed": false,
    "ExecuteTime": {
     "end_time": "2024-05-23T14:13:38.659004Z",
     "start_time": "2024-05-23T14:13:38.637078Z"
    }
   },
   "id": "6bbecda9b18a962d",
   "execution_count": 11
  },
  {
   "cell_type": "code",
   "outputs": [],
   "source": [
    "raw_seat_dt.to_csv('seat_data.csv', index=False)"
   ],
   "metadata": {
    "collapsed": false,
    "ExecuteTime": {
     "end_time": "2024-05-23T14:13:59.758562Z",
     "start_time": "2024-05-23T14:13:59.694678Z"
    }
   },
   "id": "b503997fda9a90ea",
   "execution_count": 12
  },
  {
   "cell_type": "code",
   "outputs": [],
   "source": [],
   "metadata": {
    "collapsed": false
   },
   "id": "ae8ecc74e18df272"
  }
 ],
 "metadata": {
  "kernelspec": {
   "display_name": "Python 3",
   "language": "python",
   "name": "python3"
  },
  "language_info": {
   "codemirror_mode": {
    "name": "ipython",
    "version": 2
   },
   "file_extension": ".py",
   "mimetype": "text/x-python",
   "name": "python",
   "nbconvert_exporter": "python",
   "pygments_lexer": "ipython2",
   "version": "2.7.6"
  }
 },
 "nbformat": 4,
 "nbformat_minor": 5
}
