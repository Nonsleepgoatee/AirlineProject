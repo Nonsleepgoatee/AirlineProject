{
 "cells": [
  {
   "cell_type": "code",
   "execution_count": 1,
   "id": "initial_id",
   "metadata": {
    "collapsed": true,
    "ExecuteTime": {
     "end_time": "2024-05-23T17:26:38.446769Z",
     "start_time": "2024-05-23T17:26:36.930665Z"
    }
   },
   "outputs": [],
   "source": [
    "import pandas as pd\n",
    "from bs4 import BeautifulSoup\n",
    "import requests\n",
    "import re"
   ]
  },
  {
   "cell_type": "code",
   "outputs": [
    {
     "name": "stdout",
     "output_type": "stream",
     "text": [
      "{'Singapore Airlines': '1', 'Qatar Airways': '2', 'ANA All Nippon Airways': '3', 'Emirates': '4', 'Japan Airlines': '5', 'Turkish Airlines': '6', 'Air France': '7', 'Cathay Pacific Airways': '8', 'EVA Air': '9', 'Korean Air': '10', 'Hainan Airlines': '11', 'Swiss International Air Lines': '12', 'Etihad Airways': '13', 'Iberia': '14', 'Fiji Airways': '15', 'Vistara': '16', 'Qantas Airways': '17', 'British Airways': '18', 'Air New Zealand': '19', 'Delta Air Lines': '20', 'Lufthansa': '21', 'Virgin Atlantic': '22', 'Saudi Arabian Airlines': '23', 'Finnair': '24', 'KLM Royal Dutch Airlines': '25', 'China Southern Airlines': '26', 'Oman Air': '27', 'Asiana Airlines': '28', 'Bangkok Airways': '29', 'Garuda Indonesia': '30', 'AirAsia': '31', 'Gulf Air': '32', 'Scoot': '33', 'Austrian Airlines': '34', 'Ethiopian Airlines': '35', 'Aegean Airlines': '36', 'Air Astana': '37', 'Air Canada': '38', 'STARLUX Airlines': '39', 'Thai Airways': '40', 'China Airlines': '41', 'Kuwait Airways': '42', 'IndiGo': '43', 'Vietnam Airlines': '44', 'LATAM': '45', 'Virgin Australia': '46', 'Malaysia Airlines': '47', 'Azul Brazilian': '48', 'United Airlines': '49', 'Azerbaijan Airlines': '50', 'Flynas': '51', 'Alaska Airlines': '52', 'Royal Air Maroc': '53', 'Volotea': '54', 'jetBlue Airways': '55', 'Rex Airlines': '56', 'Aer Lingus': '57', 'Transavia France': '58', 'Sun Country Airlines': '59', 'Southwest Airlines': '60', 'airBaltic': '61', 'Air Transat': '62', 'Jet2.com': '63', 'WestJet': '64', 'EasyJet': '65', 'Royal Brunei Airlines': '66', 'Vueling Airlines': '67', 'Ryanair': '68', 'Jetstar Airways': '69', 'flyDubai': '70', 'SunExpress': '71', 'South African Airways': '72', 'Kenya Airways': '73', 'Peach': '74', 'Hong Kong Airlines': '75', 'JetSMART Airlines': '76', 'Jetstar Asia': '77', 'Air Mauritius': '78', 'Eurowings': '79', 'Philippine Airlines': '80', 'SKY Airline': '81', 'American Airlines': '82', 'Copa Airlines': '83', 'SAS Scandinavian': '84', 'Hawaiian Airlines': '85', 'LOT Polish': '86', 'Wizz Air': '87', 'Air Arabia': '88', 'TAP Portugal': '89', 'RwandAir': '90', 'PLAY': '91', 'TUI Airways': '92', 'Air Canada rouge': '93', 'Citilink': '94', 'Juneyao Air': '95', 'Air Dolomiti': '96', 'Breeze Airways': '97', 'Norwegian': '98', 'Porter Airlines': '99', 'Brussels Airlines': '100'}\n"
     ]
    }
   ],
   "source": [
    "url='https://www.worldairlineawards.com/worlds-top-100-airlines-2023/'\n",
    "page=requests.get(url)\n",
    "soup=BeautifulSoup(page.content,'html.parser')\n",
    "awards=soup.find_all('div',class_='row mb-2 awards-list')\n",
    "airline_tier={}\n",
    "for award in awards:\n",
    "    Airline=award.find('h4').get_text(strip=True)\n",
    "    Tier=award.find('h6',class_='mb-0').get_text(strip=True)\n",
    "    airline_tier[Airline]=Tier\n",
    "print(airline_tier)"
   ],
   "metadata": {
    "collapsed": false,
    "ExecuteTime": {
     "end_time": "2024-05-23T17:31:33.467683Z",
     "start_time": "2024-05-23T17:31:31.534333Z"
    }
   },
   "id": "93a82ed2edbb6e7f",
   "execution_count": 5
  },
  {
   "cell_type": "code",
   "outputs": [
    {
     "data": {
      "text/plain": "                   Airline Ranking\n0       Singapore Airlines       1\n1            Qatar Airways       2\n2   ANA All Nippon Airways       3\n3                 Emirates       4\n4           Japan Airlines       5\n..                     ...     ...\n95            Air Dolomiti      96\n96          Breeze Airways      97\n97               Norwegian      98\n98         Porter Airlines      99\n99       Brussels Airlines     100\n\n[100 rows x 2 columns]",
      "text/html": "<div>\n<style scoped>\n    .dataframe tbody tr th:only-of-type {\n        vertical-align: middle;\n    }\n\n    .dataframe tbody tr th {\n        vertical-align: top;\n    }\n\n    .dataframe thead th {\n        text-align: right;\n    }\n</style>\n<table border=\"1\" class=\"dataframe\">\n  <thead>\n    <tr style=\"text-align: right;\">\n      <th></th>\n      <th>Airline</th>\n      <th>Ranking</th>\n    </tr>\n  </thead>\n  <tbody>\n    <tr>\n      <th>0</th>\n      <td>Singapore Airlines</td>\n      <td>1</td>\n    </tr>\n    <tr>\n      <th>1</th>\n      <td>Qatar Airways</td>\n      <td>2</td>\n    </tr>\n    <tr>\n      <th>2</th>\n      <td>ANA All Nippon Airways</td>\n      <td>3</td>\n    </tr>\n    <tr>\n      <th>3</th>\n      <td>Emirates</td>\n      <td>4</td>\n    </tr>\n    <tr>\n      <th>4</th>\n      <td>Japan Airlines</td>\n      <td>5</td>\n    </tr>\n    <tr>\n      <th>...</th>\n      <td>...</td>\n      <td>...</td>\n    </tr>\n    <tr>\n      <th>95</th>\n      <td>Air Dolomiti</td>\n      <td>96</td>\n    </tr>\n    <tr>\n      <th>96</th>\n      <td>Breeze Airways</td>\n      <td>97</td>\n    </tr>\n    <tr>\n      <th>97</th>\n      <td>Norwegian</td>\n      <td>98</td>\n    </tr>\n    <tr>\n      <th>98</th>\n      <td>Porter Airlines</td>\n      <td>99</td>\n    </tr>\n    <tr>\n      <th>99</th>\n      <td>Brussels Airlines</td>\n      <td>100</td>\n    </tr>\n  </tbody>\n</table>\n<p>100 rows × 2 columns</p>\n</div>"
     },
     "execution_count": 7,
     "metadata": {},
     "output_type": "execute_result"
    }
   ],
   "source": [
    "ranking_df=pd.DataFrame(airline_tier.items(),columns=['Airline','Ranking'])\n",
    "ranking_df"
   ],
   "metadata": {
    "collapsed": false,
    "ExecuteTime": {
     "end_time": "2024-05-23T17:43:26.728756Z",
     "start_time": "2024-05-23T17:43:26.711601Z"
    }
   },
   "id": "5686afba05760342",
   "execution_count": 7
  },
  {
   "cell_type": "code",
   "outputs": [],
   "source": [],
   "metadata": {
    "collapsed": false
   },
   "id": "fd28ccd41614bee9"
  }
 ],
 "metadata": {
  "kernelspec": {
   "display_name": "Python 3",
   "language": "python",
   "name": "python3"
  },
  "language_info": {
   "codemirror_mode": {
    "name": "ipython",
    "version": 2
   },
   "file_extension": ".py",
   "mimetype": "text/x-python",
   "name": "python",
   "nbconvert_exporter": "python",
   "pygments_lexer": "ipython2",
   "version": "2.7.6"
  }
 },
 "nbformat": 4,
 "nbformat_minor": 5
}
